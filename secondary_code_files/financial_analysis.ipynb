{
 "cells": [
  {
   "cell_type": "code",
   "execution_count": 1,
   "metadata": {},
   "outputs": [],
   "source": [
    "import pandas as pd\n",
    "import math\n",
    "import matplotlib.pyplot as plt\n",
    "import seaborn as sns\n",
    "import statsmodels.api as sm\n",
    "\n",
    "\n",
    "# Open the csv file of actors\n",
    "financials = pd.read_csv('./../cleaned_datasets/financial_data_no_budget.csv')\n",
    "financials_bud = pd.read_csv('./../cleaned_datasets/financial_data.csv')\n",
    "movies = pd.read_csv('./../cleaned_datasets/movies_clean.csv')"
   ]
  },
  {
   "cell_type": "markdown",
   "metadata": {},
   "source": [
    "# 1. Data prep"
   ]
  },
  {
   "cell_type": "code",
   "execution_count": 3,
   "metadata": {},
   "outputs": [
    {
     "data": {
      "text/html": [
       "<div>\n",
       "<style scoped>\n",
       "    .dataframe tbody tr th:only-of-type {\n",
       "        vertical-align: middle;\n",
       "    }\n",
       "\n",
       "    .dataframe tbody tr th {\n",
       "        vertical-align: top;\n",
       "    }\n",
       "\n",
       "    .dataframe thead th {\n",
       "        text-align: right;\n",
       "    }\n",
       "</style>\n",
       "<table border=\"1\" class=\"dataframe\">\n",
       "  <thead>\n",
       "    <tr style=\"text-align: right;\">\n",
       "      <th></th>\n",
       "      <th>original_title</th>\n",
       "      <th>runtime</th>\n",
       "      <th>year_release</th>\n",
       "      <th>budget_adjusted</th>\n",
       "      <th>revenue_final_adjusted</th>\n",
       "      <th>averageRating</th>\n",
       "      <th>numVotes</th>\n",
       "      <th>average_award_cumcount</th>\n",
       "      <th>average_movies_cumcount</th>\n",
       "      <th>award_cumcount</th>\n",
       "      <th>movies_cumcount</th>\n",
       "    </tr>\n",
       "  </thead>\n",
       "  <tbody>\n",
       "    <tr>\n",
       "      <th>0</th>\n",
       "      <td>The Cheat</td>\n",
       "      <td>59.0</td>\n",
       "      <td>1915</td>\n",
       "      <td>173795</td>\n",
       "      <td>1379092</td>\n",
       "      <td>6.5</td>\n",
       "      <td>2709.0</td>\n",
       "      <td>0.000000</td>\n",
       "      <td>0.333333</td>\n",
       "      <td>0.0</td>\n",
       "      <td>3.0</td>\n",
       "    </tr>\n",
       "    <tr>\n",
       "      <th>7</th>\n",
       "      <td>The Unholy Three</td>\n",
       "      <td>86.0</td>\n",
       "      <td>1925</td>\n",
       "      <td>1034080</td>\n",
       "      <td>7067892</td>\n",
       "      <td>7.2</td>\n",
       "      <td>2117.0</td>\n",
       "      <td>0.000000</td>\n",
       "      <td>3.250000</td>\n",
       "      <td>0.0</td>\n",
       "      <td>26.0</td>\n",
       "    </tr>\n",
       "    <tr>\n",
       "      <th>13</th>\n",
       "      <td>Flesh and the Devil</td>\n",
       "      <td>112.0</td>\n",
       "      <td>1926</td>\n",
       "      <td>3744778</td>\n",
       "      <td>6606069</td>\n",
       "      <td>7.6</td>\n",
       "      <td>4533.0</td>\n",
       "      <td>0.000000</td>\n",
       "      <td>1.444444</td>\n",
       "      <td>0.0</td>\n",
       "      <td>13.0</td>\n",
       "    </tr>\n",
       "    <tr>\n",
       "      <th>17</th>\n",
       "      <td>Lights of New York</td>\n",
       "      <td>57.0</td>\n",
       "      <td>1928</td>\n",
       "      <td>752971</td>\n",
       "      <td>12047543</td>\n",
       "      <td>5.7</td>\n",
       "      <td>907.0</td>\n",
       "      <td>0.000000</td>\n",
       "      <td>2.000000</td>\n",
       "      <td>0.0</td>\n",
       "      <td>6.0</td>\n",
       "    </tr>\n",
       "    <tr>\n",
       "      <th>19</th>\n",
       "      <td>West of Zanzibar</td>\n",
       "      <td>65.0</td>\n",
       "      <td>1928</td>\n",
       "      <td>2600261</td>\n",
       "      <td>9246489</td>\n",
       "      <td>7.2</td>\n",
       "      <td>1915.0</td>\n",
       "      <td>0.250000</td>\n",
       "      <td>7.750000</td>\n",
       "      <td>1.0</td>\n",
       "      <td>31.0</td>\n",
       "    </tr>\n",
       "    <tr>\n",
       "      <th>...</th>\n",
       "      <td>...</td>\n",
       "      <td>...</td>\n",
       "      <td>...</td>\n",
       "      <td>...</td>\n",
       "      <td>...</td>\n",
       "      <td>...</td>\n",
       "      <td>...</td>\n",
       "      <td>...</td>\n",
       "      <td>...</td>\n",
       "      <td>...</td>\n",
       "      <td>...</td>\n",
       "    </tr>\n",
       "    <tr>\n",
       "      <th>4588</th>\n",
       "      <td>Killing Them Softly</td>\n",
       "      <td>97.0</td>\n",
       "      <td>2012</td>\n",
       "      <td>19515604</td>\n",
       "      <td>49349062</td>\n",
       "      <td>6.2</td>\n",
       "      <td>150251.0</td>\n",
       "      <td>0.333333</td>\n",
       "      <td>8.533333</td>\n",
       "      <td>5.0</td>\n",
       "      <td>128.0</td>\n",
       "    </tr>\n",
       "    <tr>\n",
       "      <th>4595</th>\n",
       "      <td>Bachelorette</td>\n",
       "      <td>87.0</td>\n",
       "      <td>2012</td>\n",
       "      <td>3903120</td>\n",
       "      <td>15544769</td>\n",
       "      <td>5.3</td>\n",
       "      <td>48378.0</td>\n",
       "      <td>0.000000</td>\n",
       "      <td>6.000000</td>\n",
       "      <td>0.0</td>\n",
       "      <td>66.0</td>\n",
       "    </tr>\n",
       "    <tr>\n",
       "      <th>4598</th>\n",
       "      <td>The Cold Light of Day</td>\n",
       "      <td>93.0</td>\n",
       "      <td>2012</td>\n",
       "      <td>26020805</td>\n",
       "      <td>21940200</td>\n",
       "      <td>4.9</td>\n",
       "      <td>38954.0</td>\n",
       "      <td>0.076923</td>\n",
       "      <td>5.230769</td>\n",
       "      <td>1.0</td>\n",
       "      <td>68.0</td>\n",
       "    </tr>\n",
       "    <tr>\n",
       "      <th>4600</th>\n",
       "      <td>That's My Boy</td>\n",
       "      <td>116.0</td>\n",
       "      <td>2012</td>\n",
       "      <td>91072819</td>\n",
       "      <td>75536274</td>\n",
       "      <td>5.5</td>\n",
       "      <td>106484.0</td>\n",
       "      <td>0.000000</td>\n",
       "      <td>6.000000</td>\n",
       "      <td>0.0</td>\n",
       "      <td>90.0</td>\n",
       "    </tr>\n",
       "    <tr>\n",
       "      <th>4605</th>\n",
       "      <td>Dredd</td>\n",
       "      <td>95.0</td>\n",
       "      <td>2012</td>\n",
       "      <td>65052014</td>\n",
       "      <td>53391755</td>\n",
       "      <td>7.1</td>\n",
       "      <td>288681.0</td>\n",
       "      <td>0.000000</td>\n",
       "      <td>2.733333</td>\n",
       "      <td>0.0</td>\n",
       "      <td>41.0</td>\n",
       "    </tr>\n",
       "  </tbody>\n",
       "</table>\n",
       "<p>1765 rows × 11 columns</p>\n",
       "</div>"
      ],
      "text/plain": [
       "             original_title  runtime  year_release  budget_adjusted  \\\n",
       "0                 The Cheat     59.0          1915           173795   \n",
       "7          The Unholy Three     86.0          1925          1034080   \n",
       "13      Flesh and the Devil    112.0          1926          3744778   \n",
       "17       Lights of New York     57.0          1928           752971   \n",
       "19         West of Zanzibar     65.0          1928          2600261   \n",
       "...                     ...      ...           ...              ...   \n",
       "4588    Killing Them Softly     97.0          2012         19515604   \n",
       "4595           Bachelorette     87.0          2012          3903120   \n",
       "4598  The Cold Light of Day     93.0          2012         26020805   \n",
       "4600          That's My Boy    116.0          2012         91072819   \n",
       "4605                  Dredd     95.0          2012         65052014   \n",
       "\n",
       "      revenue_final_adjusted  averageRating  numVotes  average_award_cumcount  \\\n",
       "0                    1379092            6.5    2709.0                0.000000   \n",
       "7                    7067892            7.2    2117.0                0.000000   \n",
       "13                   6606069            7.6    4533.0                0.000000   \n",
       "17                  12047543            5.7     907.0                0.000000   \n",
       "19                   9246489            7.2    1915.0                0.250000   \n",
       "...                      ...            ...       ...                     ...   \n",
       "4588                49349062            6.2  150251.0                0.333333   \n",
       "4595                15544769            5.3   48378.0                0.000000   \n",
       "4598                21940200            4.9   38954.0                0.076923   \n",
       "4600                75536274            5.5  106484.0                0.000000   \n",
       "4605                53391755            7.1  288681.0                0.000000   \n",
       "\n",
       "      average_movies_cumcount  award_cumcount  movies_cumcount  \n",
       "0                    0.333333             0.0              3.0  \n",
       "7                    3.250000             0.0             26.0  \n",
       "13                   1.444444             0.0             13.0  \n",
       "17                   2.000000             0.0              6.0  \n",
       "19                   7.750000             1.0             31.0  \n",
       "...                       ...             ...              ...  \n",
       "4588                 8.533333             5.0            128.0  \n",
       "4595                 6.000000             0.0             66.0  \n",
       "4598                 5.230769             1.0             68.0  \n",
       "4600                 6.000000             0.0             90.0  \n",
       "4605                 2.733333             0.0             41.0  \n",
       "\n",
       "[1765 rows x 11 columns]"
      ]
     },
     "execution_count": 3,
     "metadata": {},
     "output_type": "execute_result"
    }
   ],
   "source": [
    "data = financials_bud.merge(movies, left_on=[\"original_title\", \"year_release\", \"runtime\"], right_on=[\"name\", \"year_release\" , \"runtime\"], how='left')\n",
    "data = data.drop(columns=[\"revenue\", \"name\", 'wikipedia_id', 'freebase_id', 'release_date',\n",
    "       'languages', 'countries', 'genres'])\n",
    "data = data.dropna(subset=[\"revenue_final_adjusted\" , \"budget_adjusted\", \"averageRating\"])\n",
    "data\n"
   ]
  },
  {
   "cell_type": "markdown",
   "metadata": {},
   "source": [
    "# 2. Correlation Analysis"
   ]
  },
  {
   "cell_type": "code",
   "execution_count": 35,
   "metadata": {},
   "outputs": [
    {
     "name": "stdout",
     "output_type": "stream",
     "text": [
      "                        averageRating  revenue_final_adjusted\n",
      "averageRating                1.000000                0.212517\n",
      "revenue_final_adjusted       0.212517                1.000000\n",
      "                        averageRating  revenue_final_adjusted\n",
      "averageRating                1.000000                0.198105\n",
      "revenue_final_adjusted       0.198105                1.000000\n"
     ]
    }
   ],
   "source": [
    "correlation = data[['averageRating', 'revenue_final_adjusted']].corr(method='pearson')\n",
    "print(correlation)\n",
    "\n",
    "correlation = data[['averageRating', 'revenue_final_adjusted']].corr(method='spearman')\n",
    "print(correlation)"
   ]
  },
  {
   "cell_type": "markdown",
   "metadata": {},
   "source": [
    "Slight positive correlation"
   ]
  },
  {
   "cell_type": "markdown",
   "metadata": {},
   "source": [
    "# 3. Scatter plot with regression line"
   ]
  },
  {
   "cell_type": "code",
   "execution_count": 36,
   "metadata": {},
   "outputs": [
    {
     "name": "stderr",
     "output_type": "stream",
     "text": [
      "/Users/timwiebelhaus/anaconda3/envs/ada/lib/python3.9/site-packages/seaborn/axisgrid.py:118: UserWarning: The figure layout has changed to tight\n",
      "  self._figure.tight_layout(*args, **kwargs)\n"
     ]
    },
    {
     "data": {
      "image/png": "[encoded data removed]",
      "text/plain": [
       "<Figure size 500x500 with 1 Axes>"
      ]
     },
     "metadata": {},
     "output_type": "display_data"
    }
   ],
   "source": [
    "sns.lmplot(x='averageRating', y='revenue_final_adjusted', data=data)\n",
    "plt.xlabel('Average Rating')\n",
    "plt.ylabel('Revenue (Adjusted)')\n",
    "plt.title('Relationship between Rating and Revenue')\n",
    "plt.show()"
   ]
  },
  {
   "cell_type": "markdown",
   "metadata": {},
   "source": [
    "# 4. Simple linear regression"
   ]
  },
  {
   "cell_type": "markdown",
   "metadata": {},
   "source": [
    "could also add budget"
   ]
  },
  {
   "cell_type": "code",
   "execution_count": 30,
   "metadata": {},
   "outputs": [
    {
     "name": "stdout",
     "output_type": "stream",
     "text": [
      "                              OLS Regression Results                              \n",
      "==================================================================================\n",
      "Dep. Variable:     revenue_final_adjusted   R-squared:                       0.056\n",
      "Model:                                OLS   Adj. R-squared:                  0.055\n",
      "Method:                     Least Squares   F-statistic:                     104.4\n",
      "Date:                    Thu, 07 Dec 2023   Prob (F-statistic):           7.65e-24\n",
      "Time:                            12:15:38   Log-Likelihood:                -36823.\n",
      "No. Observations:                    1765   AIC:                         7.365e+04\n",
      "Df Residuals:                        1763   BIC:                         7.366e+04\n",
      "Df Model:                               1                                         \n",
      "Covariance Type:                nonrobust                                         \n",
      "=================================================================================\n",
      "                    coef    std err          t      P>|t|      [0.025      0.975]\n",
      "---------------------------------------------------------------------------------\n",
      "const         -2.783e+08   4.37e+07     -6.366      0.000   -3.64e+08   -1.93e+08\n",
      "averageRating  6.852e+07   6.71e+06     10.216      0.000    5.54e+07    8.17e+07\n",
      "==============================================================================\n",
      "Omnibus:                     2334.391   Durbin-Watson:                   1.958\n",
      "Prob(Omnibus):                  0.000   Jarque-Bera (JB):           791007.824\n",
      "Skew:                           6.996   Prob(JB):                         0.00\n",
      "Kurtosis:                     105.763   Cond. No.                         44.0\n",
      "==============================================================================\n",
      "\n",
      "Notes:\n",
      "[1] Standard Errors assume that the covariance matrix of the errors is correctly specified.\n"
     ]
    }
   ],
   "source": [
    "X = data[['averageRating']]\n",
    "y = data['revenue_final_adjusted']\n",
    "X = sm.add_constant(X)  # Adds a constant term to the predictor\n",
    "\n",
    "model = sm.OLS(y, X).fit()\n",
    "print(model.summary())"
   ]
  },
  {
   "cell_type": "code",
   "execution_count": 37,
   "metadata": {},
   "outputs": [
    {
     "data": {
      "text/plain": [
       "\"\\n# Define the independent variables (including budget) and the dependent variable\\nX = data[['averageRating', 'budget_adjusted']]\\ny = data['revenue_final_adjusted']\\n\\n# Add a constant to the model (intercept)\\nX = sm.add_constant(X)\\n\\n# Build the regression model\\nmodel = sm.OLS(y, X).fit()\\n\\n# Print the summary of the regression model\\nprint(model.summary())\\n\""
      ]
     },
     "execution_count": 37,
     "metadata": {},
     "output_type": "execute_result"
    }
   ],
   "source": [
    "\"\"\"\n",
    "# Define the independent variables (including budget) and the dependent variable\n",
    "X = data[['averageRating', 'budget_adjusted']]\n",
    "y = data['revenue_final_adjusted']\n",
    "\n",
    "# Add a constant to the model (intercept)\n",
    "X = sm.add_constant(X)\n",
    "\n",
    "# Build the regression model\n",
    "model = sm.OLS(y, X).fit()\n",
    "\n",
    "# Print the summary of the regression model\n",
    "print(model.summary())\n",
    "\"\"\""
   ]
  },
  {
   "cell_type": "markdown",
   "metadata": {},
   "source": [
    "# 5. Residual Analysis"
   ]
  },
  {
   "cell_type": "code",
   "execution_count": 38,
   "metadata": {},
   "outputs": [
    {
     "data": {
      "image/png": "[encoded data removed]",
      "text/plain": [
       "<Figure size 640x480 with 1 Axes>"
      ]
     },
     "metadata": {},
     "output_type": "display_data"
    },
    {
     "data": {
      "image/png": "[encoded data removed]",
      "text/plain": [
       "<Figure size 640x480 with 1 Axes>"
      ]
     },
     "metadata": {},
     "output_type": "display_data"
    }
   ],
   "source": [
    "residuals = model.resid\n",
    "plt.hist(residuals, bins=30)\n",
    "plt.title('Residual Distribution')\n",
    "plt.xlabel('Residuals')\n",
    "plt.ylabel('Frequency')\n",
    "plt.show()\n",
    "\n",
    "# Scatter plot for residuals\n",
    "plt.scatter(model.predict(), residuals)\n",
    "plt.title('Residuals vs Fitted Values')\n",
    "plt.xlabel('Fitted Values')\n",
    "plt.ylabel('Residuals')\n",
    "plt.axhline(y=0, color='r', linestyle='--')\n",
    "plt.show()\n"
   ]
  },
  {
   "cell_type": "markdown",
   "metadata": {},
   "source": [
    "# 6. Quartiles group comparison"
   ]
  },
  {
   "cell_type": "code",
   "execution_count": 39,
   "metadata": {},
   "outputs": [
    {
     "name": "stdout",
     "output_type": "stream",
     "text": [
      "RatingCategory\n",
      "High            1.925801e+08\n",
      "Low             6.352048e+07\n",
      "Lower-Middle    8.821136e+07\n",
      "Upper-Middle    1.073576e+08\n",
      "Name: revenue_final_adjusted, dtype: float64\n"
     ]
    }
   ],
   "source": [
    "quartiles = data['averageRating'].quantile([0.25, 0.5, 0.75])\n",
    "\n",
    "# Function to categorize each movie based on its rating quartile\n",
    "def rating_category(rating):\n",
    "    if rating <= quartiles[0.25]:\n",
    "        return 'Low'\n",
    "    elif rating <= quartiles[0.5]:\n",
    "        return 'Lower-Middle'\n",
    "    elif rating <= quartiles[0.75]:\n",
    "        return 'Upper-Middle'\n",
    "    else:\n",
    "        return 'High'\n",
    "\n",
    "# Apply the function to create a new column for rating category\n",
    "data['RatingCategory'] = data['averageRating'].apply(rating_category)\n",
    "\n",
    "# Group by the new category and calculate mean revenue\n",
    "average_revenues = data.groupby('RatingCategory')['revenue_final_adjusted'].mean()\n",
    "\n",
    "# Display the results\n",
    "print(average_revenues)"
   ]
  },
  {
   "cell_type": "markdown",
   "metadata": {},
   "source": [
    "# 7. Pair matching / Propensity score"
   ]
  },
  {
   "cell_type": "code",
   "execution_count": 4,
   "metadata": {},
   "outputs": [
    {
     "name": "stdout",
     "output_type": "stream",
     "text": [
      "Average Revenue for High Rated Movies: 261543669.4929006\n",
      "Average Revenue for Matched Low Rated Movies: 118989880.41987829\n"
     ]
    }
   ],
   "source": [
    "from sklearn.linear_model import LogisticRegression\n",
    "from sklearn.model_selection import train_test_split\n",
    "from sklearn.metrics import accuracy_score\n",
    "import numpy as np\n",
    "from scipy.spatial.distance import cdist\n",
    "\n",
    "# Assuming your DataFrame is named 'data'\n",
    "# Let's say we define high ratings as being in the top 25% of your ratings\n",
    "\n",
    "# Step 1: Define Treatment Group\n",
    "high_rating_threshold = data['averageRating'].quantile(0.75)\n",
    "data['high_rating'] = data['averageRating'] >= high_rating_threshold\n",
    "\n",
    "# Step 2: Calculate Propensity Scores\n",
    "# Selecting covariates that are predictors of receiving the treatment\n",
    "covariates = data[['year_release', \"budget_adjusted\"]]  # You can add more covariates\n",
    "\n",
    "# Logistic Regression to calculate propensity scores\n",
    "model = LogisticRegression()\n",
    "X_train, X_test, y_train, y_test = train_test_split(covariates, data['high_rating'], test_size=0.33, random_state=42)\n",
    "model.fit(X_train, y_train)\n",
    "\n",
    "# Predict Propensity Scores\n",
    "data['propensity_score'] = model.predict_proba(covariates)[:, 1]\n",
    "\n",
    "# Step 3: Match Movies\n",
    "# We'll perform nearest neighbor matching\n",
    "high_rated_movies = data[data['high_rating']]\n",
    "low_rated_movies = data[~data['high_rating']]\n",
    "\n",
    "# Calculate distances between all high and low rated movies\n",
    "distances = cdist(high_rated_movies[['propensity_score']], low_rated_movies[['propensity_score']], metric='euclidean')\n",
    "\n",
    "# For each high rated movie, find its closest low rated match\n",
    "min_distances = np.argmin(distances, axis=1)\n",
    "matched_movies = low_rated_movies.iloc[min_distances]\n",
    "\n",
    "# Step 4: Compare Outcomes\n",
    "# Compare average revenue between high rated movies and their matched pairs\n",
    "average_revenue_high = high_rated_movies['revenue_final_adjusted'].mean()\n",
    "average_revenue_matched = matched_movies['revenue_final_adjusted'].mean()\n",
    "\n",
    "print(f\"Average Revenue for High Rated Movies: {average_revenue_high}\")\n",
    "print(f\"Average Revenue for Matched Low Rated Movies: {average_revenue_matched}\")\n"
   ]
  },
  {
   "cell_type": "code",
   "execution_count": 18,
   "metadata": {},
   "outputs": [
    {
     "name": "stdout",
     "output_type": "stream",
     "text": [
      "Optimization terminated successfully.\n",
      "         Current function value: 0.565112\n",
      "         Iterations 5\n"
     ]
    }
   ],
   "source": [
    "import pandas as pd\n",
    "import statsmodels.formula.api as smf\n",
    "import networkx as nx\n",
    "\n",
    "def get_similarity(propensity_score1, propensity_score2):\n",
    "    '''Calculate similarity for instances with given propensity scores'''\n",
    "    return 1-np.abs(propensity_score1-propensity_score2)\n",
    "\n",
    "# Assuming the DataFrame is named 'data'\n",
    "# Standardize continuous features\n",
    "data['budget_adjusted_std'] = (data['budget_adjusted'] - data['budget_adjusted'].mean()) / data['budget_adjusted'].std()\n",
    "data['year_release_std'] = (data['year_release'] - data['year_release'].mean()) / data['year_release'].std()\n",
    "\n",
    "# Define high rating\n",
    "high_rating_threshold = data['averageRating'].quantile(0.75)\n",
    "data['high_rating'] = (data['averageRating'] >= high_rating_threshold).astype(int)\n",
    "\n",
    "\n",
    "# Calculate Propensity Scores\n",
    "mod = smf.logit(formula='high_rating ~ budget_adjusted_std + year_release_std', data=data)\n",
    "res = mod.fit()\n",
    "data['Propensity_score'] = res.predict()\n",
    "\n",
    "# Separate the treatment and control groups\n",
    "treatment_df = data[data['high_rating'].astype(bool)]\n",
    "control_df = data[~data['high_rating'].astype(bool)]\n",
    "\n",
    "# Create a Network Graph\n",
    "G = nx.Graph()\n",
    "\n",
    "# Add edges with weights based on propensity score similarity\n",
    "for control_idx, control_row in control_df.iterrows():\n",
    "    for treatment_idx, treatment_row in treatment_df.iterrows():\n",
    "        # Weight based on the inverse of the absolute difference in propensity scores\n",
    "        weight = get_similarity(control_row['Propensity_score'],treatment_row['Propensity_score'])\n",
    "        G.add_edge(control_idx, treatment_idx, weight=weight)\n",
    "\n",
    "# Find the Maximum Weight Matching\n",
    "matching = nx.max_weight_matching(G, maxcardinality=True)\n",
    "\n",
    "# Extract matched indices into a flat list\n",
    "matched_indices_flat = [idx for pair in matching for idx in pair]\n",
    "\n",
    "# Use the flat list of indices to get the matched data\n",
    "matched_data = data.loc[matched_indices_flat]\n",
    "\n",
    "# Calculate and compare average revenues\n",
    "average_revenue_high = matched_data[matched_data['high_rating'].astype(bool)]['revenue_final_adjusted'].mean()\n",
    "average_revenue_low = matched_data[~matched_data['high_rating'].astype(bool)]['revenue_final_adjusted'].mean()\n",
    "\n",
    "print(f\"Average Revenue for High Rated Movies: {average_revenue_high}\")\n",
    "print(f\"Average Revenue for Matched Low Rated Movies: {average_revenue_low}\")"
   ]
  },
  {
   "cell_type": "code",
   "execution_count": null,
   "metadata": {},
   "outputs": [],
   "source": []
  }
 ],
 "metadata": {
  "kernelspec": {
   "display_name": "ada",
   "language": "python",
   "name": "python3"
  },
  "language_info": {
   "codemirror_mode": {
    "name": "ipython",
    "version": 3
   },
   "file_extension": ".py",
   "mimetype": "text/x-python",
   "name": "python",
   "nbconvert_exporter": "python",
   "pygments_lexer": "ipython3",
   "version": "3.9.18"
  }
 },
 "nbformat": 4,
 "nbformat_minor": 2
}
