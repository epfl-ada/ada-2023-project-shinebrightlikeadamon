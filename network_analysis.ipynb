{
 "cells": [
  {
   "cell_type": "markdown",
   "metadata": {},
   "source": [
    "# Network Analysis\n",
    "\n",
    "In the context of analyzing the impact of an actor's popularity on movie ratings, network analysis allows us to look at the connections between actors and how they may influence each other's contribution to the ratings. By visualizing the relationships between actors as a network, we can identify patterns and communities within the movie industry, and gain a more nuanced understanding of the ways in which actors' popularity contribute to ratings. \n",
    "\n",
    "Overall, incorporating network analysis into our analysis of actor contributions to movie ratings can provide valuable insights and help us better understand the complex relationships within the data."
   ]
  },
  {
   "cell_type": "markdown",
   "metadata": {},
   "source": [
    "Steps:\n",
    "- network with weights = number of movies done together \n",
    "- communities (highlight within & between on graph)\n",
    "- movie rating differences per community? CORRELATION -> t-test \n",
    "- CAUSATION:\n",
    "    - split into 2 categories: movies with acotrs from same community vs. across communities \n",
    "    - paired-matching -> movies based on genre, (languages, countries, release year, runtime)\n",
    "    - propoensity score \n",
    "    - movie rating differences across/within communities? \n",
    "\n",
    "Repeat with weights = ethnicity (the closer the greater the weight)? reverse age difference (the smaller the greater the weight)? number of awards together? \n",
    "\n",
    "Q: how to measure distance among ethnicities? is it even possible? "
   ]
  },
  {
   "cell_type": "code",
   "execution_count": 2,
   "metadata": {},
   "outputs": [],
   "source": [
    "# Import all libraries \n",
    "import pandas as pd\n",
    "import numpy as np\n",
    "import matplotlib.pyplot as plt\n",
    "import seaborn as sns\n",
    "import statsmodels.api as sm\n",
    "from statsmodels.formula.api import ols\n",
    "import networkx as nx\n",
    "\n",
    "# Ignore warnings\n",
    "import warnings\n",
    "warnings.filterwarnings('ignore')"
   ]
  },
  {
   "cell_type": "code",
   "execution_count": 3,
   "metadata": {},
   "outputs": [],
   "source": [
    "# Open the cleaned datasets from the cleaned_datasets folder\n",
    "movies = pd.read_csv('cleaned_datasets/movies_clean.csv', sep=',') #TODO sep ?\n",
    "characters = pd.read_csv('cleaned_datasets/characters_clean.csv')\n",
    "actors_info = pd.read_csv('cleaned_datasets/actors_info_clean.csv')\n",
    "actors_list = pd.read_csv('cleaned_datasets/actors_list_clean.csv')"
   ]
  },
  {
   "cell_type": "code",
   "execution_count": 4,
   "metadata": {},
   "outputs": [],
   "source": [
    "# load data\n",
    "#movies = pd.read_csv(MOVIE_PATH, sep=\"\\t\", names=colnames_movies, header=None)\n",
    "\n",
    "# budget = pd.read_csv(\n",
    "#     BUDGET_PATH, usecols=[\"id\", \"budget\", \"original_title\", \"release_date\", \"runtime\"]\n",
    "# )\n",
    "\n",
    "# adding column for release year in movies and budget dataframes.\n",
    "# IMDb dataset already contains release year.\n",
    "# movies[\"year_released\"] = pd.to_datetime(   \n",
    "#     movies[\"year_release\"], infer_datetime_format=True, errors=\"coerce\"\n",
    "# ).dt.year   #TODO check type of year_release in movies dataset \n",
    "\n",
    "# removing rows with null values in year_released\n",
    "#movies = movies[~movies[\"year_release\"].isna()] #TODO for later \n",
    "\n",
    "# removing rows with duplicate of ('movie_name', 'release_year', 'movie_runtime') in movies\n",
    "#movies = movies.drop_duplicates(subset=[\"movie_name\", \"year_released\", \"movie_runtime\"])\n",
    "#TODO\n",
    "\n",
    "\n",
    "# # column that idicate if date were given or only year\n",
    "# movies[\"date_given\"] = movies[\"release_date\"].apply(lambda x: is_given_date(str(x)))\n",
    "\n",
    "# # transform the string representation to date-time representation\n",
    "# movies[\"release_date\"] = pd.to_datetime(\n",
    "#     movies[\"release_date\"], errors=\"coerce\", utc=True\n",
    "# )\n",
    "\n",
    "# # extract year and month (if no month are given the default is set to January)\n",
    "# movies[\"release_year\"] = pd.DatetimeIndex(movies[\"release_date\"]).year\n",
    "# movies[\"release_month\"] = pd.DatetimeIndex(movies[\"release_date\"]).month\n",
    "\n",
    "# # filter out movies without release date\n",
    "# movies = movies[movies[\"release_date\"].notna()]"
   ]
  },
  {
   "cell_type": "code",
   "execution_count": 5,
   "metadata": {},
   "outputs": [
    {
     "data": {
      "text/plain": [
       "wikipedia_id                   0\n",
       "freebase_id                    0\n",
       "name                           0\n",
       "release_date                   0\n",
       "revenue                    21460\n",
       "runtime                        0\n",
       "languages                      0\n",
       "countries                      0\n",
       "genres                         0\n",
       "year_release                   0\n",
       "averageRating                  0\n",
       "numVotes                       0\n",
       "average_award_cumcount      3702\n",
       "average_movies_cumcount     3702\n",
       "award_cumcount              3702\n",
       "movies_cumcount             3702\n",
       "dtype: int64"
      ]
     },
     "execution_count": 5,
     "metadata": {},
     "output_type": "execute_result"
    }
   ],
   "source": [
    "movies.isna().sum()\n",
    "#TODO movies is object"
   ]
  },
  {
   "cell_type": "code",
   "execution_count": 6,
   "metadata": {},
   "outputs": [
    {
     "data": {
      "text/plain": [
       "name        1\n",
       "awards      0\n",
       "movies      1\n",
       "Fame        0\n",
       "Liked       0\n",
       "Disliked    0\n",
       "Neutral     0\n",
       "dtype: int64"
      ]
     },
     "execution_count": 6,
     "metadata": {},
     "output_type": "execute_result"
    }
   ],
   "source": [
    "actors_list.isna().sum()"
   ]
  },
  {
   "cell_type": "markdown",
   "metadata": {},
   "source": [
    "Note (!)  null values for 1 in name, movies and below 1 in id, name, movies"
   ]
  },
  {
   "cell_type": "code",
   "execution_count": 7,
   "metadata": {},
   "outputs": [
    {
     "data": {
      "text/plain": [
       "actor_birth           76097\n",
       "actor_gender          37800\n",
       "actor_height         121294\n",
       "actor_etnicity       125974\n",
       "actor_name                1\n",
       "freebase_actor_id         1\n",
       "awards                    0\n",
       "movies                    1\n",
       "Fame                      0\n",
       "Liked                     0\n",
       "Disliked                  0\n",
       "Neutral                   0\n",
       "dtype: int64"
      ]
     },
     "execution_count": 7,
     "metadata": {},
     "output_type": "execute_result"
    }
   ],
   "source": [
    "actors_info.isna().sum()\n",
    "#TODO movies is float64"
   ]
  },
  {
   "cell_type": "code",
   "execution_count": 8,
   "metadata": {},
   "outputs": [
    {
     "data": {
      "text/plain": [
       "wikipedia_movie_id                 0\n",
       "freebase_movie_id                  0\n",
       "movie_release_date                 0\n",
       "character_name                 90614\n",
       "actor_birth                    37774\n",
       "actor_gender                   16299\n",
       "actor_height                  107893\n",
       "actor_etnicity                134592\n",
       "actor_name                       149\n",
       "actor_age_at_release           56626\n",
       "freebase_char_actor_map_id         0\n",
       "freebase_character_id          90610\n",
       "freebase_actor_id                  0\n",
       "Fame                               0\n",
       "Liked                              0\n",
       "Disliked                           0\n",
       "Neutral                            0\n",
       "award_cumcount                     0\n",
       "movies_cumcount                    0\n",
       "dtype: int64"
      ]
     },
     "execution_count": 8,
     "metadata": {},
     "output_type": "execute_result"
    }
   ],
   "source": [
    "characters.isna().sum()"
   ]
  },
  {
   "cell_type": "markdown",
   "metadata": {},
   "source": [
    "The character dataset does not contain any missing freebase_actor_id or freebase_movie_id, therefore no entries have to be removed. "
   ]
  },
  {
   "cell_type": "code",
   "execution_count": 9,
   "metadata": {},
   "outputs": [],
   "source": [
    "# Removing actors without movie information\n",
    "actors_list = actors_list[actors_list['movies'].notna()]\n",
    "actors_info = actors_info[actors_info['movies'].notna()]"
   ]
  },
  {
   "cell_type": "code",
   "execution_count": 10,
   "metadata": {},
   "outputs": [
    {
     "data": {
      "text/plain": [
       "name        0\n",
       "awards      0\n",
       "movies      0\n",
       "Fame        0\n",
       "Liked       0\n",
       "Disliked    0\n",
       "Neutral     0\n",
       "dtype: int64"
      ]
     },
     "execution_count": 10,
     "metadata": {},
     "output_type": "execute_result"
    }
   ],
   "source": [
    "actors_list.isna().sum()"
   ]
  },
  {
   "cell_type": "code",
   "execution_count": 11,
   "metadata": {},
   "outputs": [
    {
     "data": {
      "text/plain": [
       "actor_birth           76096\n",
       "actor_gender          37799\n",
       "actor_height         121293\n",
       "actor_etnicity       125973\n",
       "actor_name                0\n",
       "freebase_actor_id         0\n",
       "awards                    0\n",
       "movies                    0\n",
       "Fame                      0\n",
       "Liked                     0\n",
       "Disliked                  0\n",
       "Neutral                   0\n",
       "dtype: int64"
      ]
     },
     "execution_count": 11,
     "metadata": {},
     "output_type": "execute_result"
    }
   ],
   "source": [
    "actors_info.isna().sum() "
   ]
  },
  {
   "cell_type": "markdown",
   "metadata": {},
   "source": [
    "One actor had missing name, id and movie information. The actor was removed from the working dataframes."
   ]
  },
  {
   "cell_type": "code",
   "execution_count": 12,
   "metadata": {},
   "outputs": [
    {
     "data": {
      "text/plain": [
       "(61752, 35)"
      ]
     },
     "execution_count": 12,
     "metadata": {},
     "output_type": "execute_result"
    }
   ],
   "source": [
    "# Removing movies from before 2000\n",
    "movies = movies[movies['year_release'] >= 2000] #TODO\n",
    "\n",
    "# Merging movies with characters on freebase_movie_id.\n",
    "movies_characters = pd.merge(\n",
    "    left=movies,\n",
    "    right=characters,\n",
    "    left_on=\"freebase_id\",  # Column from the \"movies\" DataFrame\n",
    "    right_on=\"freebase_movie_id\"  # Column from the \"characters\" DataFrame\n",
    ")\n",
    "\n",
    "# Rename the merged column to a specific name\n",
    "movies_characters = movies_characters.rename(columns={\"freebase_id\": \"freebase_movie_id\"})\n",
    "\n",
    "# We filter out duplicated combinations of 'freebase_movie_id' and 'freebase_actor_ID'.\n",
    "movies_characters = movies_characters.drop_duplicates(\n",
    "    subset=[\"freebase_movie_id\", \"freebase_actor_id\"], keep=\"first\"\n",
    ")\n",
    "movies_characters.shape"
   ]
  },
  {
   "cell_type": "markdown",
   "metadata": {},
   "source": [
    "## One Hot Encoding of Actors"
   ]
  },
  {
   "cell_type": "code",
   "execution_count": 13,
   "metadata": {},
   "outputs": [
    {
     "data": {
      "text/plain": [
       "(61752, 35973)"
      ]
     },
     "execution_count": 13,
     "metadata": {},
     "output_type": "execute_result"
    }
   ],
   "source": [
    "# One Hot Encoding of Actors\n",
    "actor_one_hot = pd.get_dummies(\n",
    "    data=movies_characters, columns=[\"freebase_actor_id\"]\n",
    ")\n",
    "\n",
    "# # One Hot Encoding of Movies\n",
    "# movie_one_hot = pd.get_dummies(\n",
    "#     data=movies_characters, columns=[\"freebase_movie_id\"]\n",
    "# )\n",
    "\n",
    "# Only include freebase_movie_id and one hot encoding of actors in dataframe\n",
    "actor_one_hot1 = actor_one_hot.filter(\n",
    "    regex=\"wikipedia_id|freebase_actor_id_\" #TODO with freebase id\n",
    ")\n",
    "\n",
    "actor_one_hot1.shape"
   ]
  },
  {
   "cell_type": "code",
   "execution_count": 14,
   "metadata": {},
   "outputs": [
    {
     "name": "stdout",
     "output_type": "stream",
     "text": [
      "wikipedia_id                   int64\n",
      "freebase_actor_id_/m/010p3     uint8\n",
      "freebase_actor_id_/m/010xjr    uint8\n",
      "freebase_actor_id_/m/011_3s    uint8\n",
      "freebase_actor_id_/m/011_8     uint8\n",
      "                               ...  \n",
      "freebase_actor_id_/m/0ywqc     uint8\n",
      "freebase_actor_id_/m/0yxl      uint8\n",
      "freebase_actor_id_/m/0z05l     uint8\n",
      "freebase_actor_id_/m/0z4s      uint8\n",
      "freebase_actor_id_/m/0zcbl     uint8\n",
      "Length: 35973, dtype: object\n"
     ]
    }
   ],
   "source": [
    "# Get the data types of the values inside actor_one_hot\n",
    "data_types = actor_one_hot1.dtypes\n",
    "\n",
    "# Display the data types\n",
    "print(data_types)"
   ]
  },
  {
   "cell_type": "code",
   "execution_count": 15,
   "metadata": {},
   "outputs": [
    {
     "name": "stdout",
     "output_type": "stream",
     "text": [
      "Number of actors that have played in more than 5 movies: 1581\n",
      "Number of actors that have played in more than 10 movies: 330\n"
     ]
    },
    {
     "data": {
      "image/png": "[encoded data removed]",
      "text/plain": [
       "<Figure size 720x432 with 1 Axes>"
      ]
     },
     "metadata": {
      "needs_background": "light"
     },
     "output_type": "display_data"
    }
   ],
   "source": [
    "# We want to try different thresholds for how many actors we include.\n",
    "# Exploring actors that have played in more than 10 and 15 movies.\n",
    "actor_one_hot_5 = actor_one_hot1.loc[:, actor_one_hot1.sum(axis=0) > 5]\n",
    "actor_one_hot_10 = actor_one_hot1.loc[:, actor_one_hot1.sum(axis=0) > 10]\n",
    "print(\n",
    "    \"Number of actors that have played in more than 5 movies: {}\".format(\n",
    "        actor_one_hot_5.shape[1] - 1\n",
    "    )\n",
    ")\n",
    "print(\n",
    "    \"Number of actors that have played in more than 10 movies: {}\".format(\n",
    "        actor_one_hot_10.shape[1] - 1\n",
    "    )\n",
    ")\n",
    "\n",
    "# Calculate the number of actors that have played in each number of movies\n",
    "num_actors_per_movie_count = actor_one_hot1.sum(axis=0)\n",
    "\n",
    "# Remove the count of the \"freebase_movie_id\" column\n",
    "num_actors_per_movie_count = num_actors_per_movie_count.drop(\"wikipedia_id\")\n",
    "\n",
    "# Create a histogram to visualize the distribution\n",
    "plt.figure(figsize=(10, 6))\n",
    "plt.hist(num_actors_per_movie_count, bins=range(1, num_actors_per_movie_count.max() + 1), edgecolor='k')\n",
    "plt.xlabel('Number of Movies')\n",
    "plt.ylabel('Number of Actors')\n",
    "plt.title('Distribution of Number of Movies vs Number of Actors')\n",
    "plt.grid(axis='y', alpha=0.75)\n",
    "plt.show()"
   ]
  },
  {
   "cell_type": "markdown",
   "metadata": {},
   "source": [
    "We decided to restrict our dataframe to actors who worked in more than 5 movies. "
   ]
  },
  {
   "cell_type": "code",
   "execution_count": 16,
   "metadata": {},
   "outputs": [
    {
     "data": {
      "text/plain": [
       "(6434, 1597)"
      ]
     },
     "execution_count": 16,
     "metadata": {},
     "output_type": "execute_result"
    }
   ],
   "source": [
    "# Grouping movies such that every movie correspond to only one row in the dataframe\n",
    "actor_one_hot_5 = actor_one_hot_5.groupby(\"wikipedia_id\").agg(\"sum\")\n",
    "\n",
    "# Merging dummy actor columns with the movies\n",
    "movies_acotrs_5 = pd.merge(\n",
    "    movies, actor_one_hot_5, left_on=\"wikipedia_id\", right_index=True\n",
    ")\n",
    "\n",
    "movies_acotrs_5.shape"
   ]
  },
  {
   "cell_type": "markdown",
   "metadata": {},
   "source": [
    "Missing all the genre, languages, countries, etc. 1-hot preprocessing"
   ]
  },
  {
   "cell_type": "code",
   "execution_count": 17,
   "metadata": {},
   "outputs": [],
   "source": [
    "# create a graph\n",
    "G = nx.Graph()\n",
    "\n",
    "# Creat a graph \n",
    "\n",
    "# intialize dictionaries to store the total revenue and number of movies for each actor\n",
    "actor_ratings = {}  # dictionary to store total box office revenue and number of movies for each actor\n",
    "actor_movies = {}  # dictionary to store the movies that each actor has appeared in\n",
    "\n",
    "# iterate over the rows in the movies_binary_actors10\n",
    "for _, row in movies_acotrs_5.iterrows():\n",
    "    # get the movie's box office revenue\n",
    "    rating = row['averageRating']\n",
    "\n",
    "    # get the actors in this movie\n",
    "    actors = [actor for actor in row.index if actor.startswith('freebase_actor_ID') and row[actor] == 1]\n",
    "    for actor in actors:\n",
    "        if actor not in actor_ratings:\n",
    "            actor_ratings[actor] = [rating, 1]  # store total revenue and number of movies for each actor\n",
    "            G.add_node(actor, size=rating)  # add actor as a node to the graph, with size equal to revenue\n",
    "            actor_movies[actor] = [row['wikipedia_movie_ID']]  # store the movies that this actor has appeared in\n",
    "        else:\n",
    "            actor_ratings[actor][0] += rating  # update total revenue for this actor\n",
    "            actor_ratings[actor][1] += 1  # update number of movies for this actor\n",
    "            G.nodes[actor]['size'] = actor_ratings[actor][0] / actor_ratings[actor][1]  # update size of node\n",
    "            actor_movies[actor].append(row['wikipedia_movie_ID'])  # add this movie to the list of movies for this actor\n",
    "    \n",
    "    # add edges between actors that have played in the same movie\n",
    "    for i in range(len(actors)):\n",
    "        for j in range(i+1, len(actors)):\n",
    "            actor1 = actors[i]\n",
    "            actor2 = actors[j]\n",
    "            if G.has_edge(actor1, actor2):\n",
    "                G[actor1][actor2]['weight'] += 1  # update the weight of the existing edge\n",
    "            else:\n",
    "                G.add_edge(actor1, actor2, weight=1)  # add a new edge with weight 1\n",
    "\n",
    "# update the weight of each edge to be the number of movies that the actors have played in together\n",
    "for actor1, actor2 in G.edges():\n",
    "    movies1 = actor_movies[actor1]\n",
    "    movies2 = actor_movies[actor2]\n",
    "    weight = len(set(movies1).intersection(movies2))  # number of movies that both actors have appeared in\n",
    "    G[actor1][actor2]['weight'] = weight"
   ]
  },
  {
   "cell_type": "code",
   "execution_count": 18,
   "metadata": {},
   "outputs": [],
   "source": [
    "import matplotlib.patches as mpatches\n",
    "\n",
    "from PIL import Image, ImageDraw\n",
    "from matplotlib.offsetbox import AnnotationBbox, OffsetImage\n",
    "\n",
    "def get_ab_from_actor(node, node_sizes, pos):\n",
    "    # read the image file for this node\n",
    "    img = Image.open('./img/' + node.split('/m/')[0] + node.split('_ID_')[1].replace('/', ':') + '.jpg')\n",
    "\n",
    "    h,w = img.size\n",
    "    # Resize the image to a square shape\n",
    "    side_length = min(h, w)\n",
    "    # crop the image to a square\n",
    "    img = img.crop(((h-side_length)//2, (w-side_length)//2, (h+side_length)//2, (w+side_length)//2))\n",
    "    img = img.resize((800,800))\n",
    "    h,w = img.size\n",
    "    \n",
    "    # creating luminous image\n",
    "    lum_img = Image.new('L',[h,w] ,0) \n",
    "    draw = ImageDraw.Draw(lum_img)\n",
    "    draw.pieslice([(0,0),(h,w)],0,360,fill=255)\n",
    "    img_arr = np.array(img)\n",
    "    lum_img_arr = np.array(lum_img)\n",
    "    final_img_arr = np.dstack((img_arr, lum_img_arr))\n",
    "\n",
    "    image = Image.fromarray(final_img_arr)\n",
    "    \n",
    "    # create an OffsetImage object for the image\n",
    "    image_offset = OffsetImage(image, zoom=node_sizes[node]/2000000000) #, cmap=plt.cm.gray_r)\n",
    "    \n",
    "    # create an AnnotationBbox object for the image\n",
    "    ab = AnnotationBbox(image_offset, pos[node], frameon=False)\n",
    "    \n",
    "    return ab\n"
   ]
  },
  {
   "cell_type": "code",
   "execution_count": 19,
   "metadata": {},
   "outputs": [
    {
     "data": {
      "image/png": "[encoded data removed]",
      "text/plain": [
       "<Figure size 864x864 with 1 Axes>"
      ]
     },
     "metadata": {},
     "output_type": "display_data"
    }
   ],
   "source": [
    "# plot the graph with images of the actors as nodes\n",
    "from matplotlib.offsetbox import OffsetImage, AnnotationBbox\n",
    "\n",
    "# create a dictionary that maps actor IDs to actor names\n",
    "actor_names = characters.set_index('freebase_actor_id')['actor_name'].to_dict()\n",
    "\n",
    "# create a new dictionary that maps the actor IDs in the movies_binary_actors10 dataframe to the actor names\n",
    "labels = {'freebase_actor_ID_'+actor: actor_names[actor] for actor in actor_names}\n",
    "\n",
    "# create a figure\n",
    "plt.figure(figsize=(12,12))\n",
    "\n",
    "# get the node sizes\n",
    "node_sizes = nx.get_node_attributes(G, 'size')\n",
    "\n",
    "# get the edge weights\n",
    "edge_weights = nx.get_edge_attributes(G, 'weight')  \n",
    "\n",
    "# position the nodes randomly\n",
    "pos = nx.random_layout(G, seed=3)\n",
    "\n",
    "for node in G.nodes():\n",
    "    plt.gca().add_artist(get_ab_from_actor(node, node_sizes, pos))\n",
    "\n",
    "# draw the graph\n",
    "nx.draw(G, pos=pos, with_labels=False, node_size=[node_sizes[v]/500000 for v in G.nodes()], edge_color='lightgreen', width=[w**2 for _, _, w in G.edges(data='weight')], node_color='lightblue')\n",
    "\n",
    "# save the plot\n",
    "# plt.savefig('actor_network.png', dpi=300, bbox_inches='tight')\n",
    "\n",
    "# show the plot\n",
    "plt.show()"
   ]
  },
  {
   "cell_type": "code",
   "execution_count": 20,
   "metadata": {},
   "outputs": [],
   "source": [
    "import community\n",
    "\n",
    "# Use the Louvain method to detect communities in the graph\n",
    "partition = community.best_partition(G, random_state=1, weight='weight')\n",
    "\n",
    "communities = {}\n",
    "\n",
    "# Print the actors in each community\n",
    "for actor, community_id in partition.items():\n",
    "    if community_id not in communities:\n",
    "        communities[community_id] = [actor]\n",
    "    else:\n",
    "        communities[community_id].append(actor)\n",
    "   "
   ]
  }
 ],
 "metadata": {
  "kernelspec": {
   "display_name": "Python 3",
   "language": "python",
   "name": "python3"
  },
  "language_info": {
   "codemirror_mode": {
    "name": "ipython",
    "version": 3
   },
   "file_extension": ".py",
   "mimetype": "text/x-python",
   "name": "python",
   "nbconvert_exporter": "python",
   "pygments_lexer": "ipython3",
   "version": "3.8.11"
  }
 },
 "nbformat": 4,
 "nbformat_minor": 2
}
