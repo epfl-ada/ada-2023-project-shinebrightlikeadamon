{
 "cells": [
  {
   "cell_type": "markdown",
   "metadata": {},
   "source": [
    "The overall procedure of our pipelines is divided by dataset. We deal with a movies-, a characters, and an actors dataset. We finally end up with the df movies, characters and actors_info as well as clean_financial_df. These datasets are enriched by attributes or merged in a way such that we can use them quickly for our analysis.\n",
    "\n",
    "While we include descriptive statistics and extracts of our df's throughout the notebook to know about the current state of our data, we still included a final chapter with some plots to visually show underlying distributions of some features."
   ]
  },
  {
   "cell_type": "markdown",
   "metadata": {},
   "source": [
    "First we load the data in our initial dataframes."
   ]
  },
  {
   "cell_type": "code",
   "execution_count": 42,
   "metadata": {},
   "outputs": [],
   "source": [
    "import pandas as pd\n",
    "import math\n",
    "\n",
    "# Open the csv file of actors\n",
    "actors = pd.read_csv('actors.csv')\n",
    "\n",
    "# Open the csv file of awards\n",
    "awards = pd.read_csv('data_csv_awards.csv')\n",
    "\n",
    "# Open the movie tsv file\n",
    "movies = pd.read_csv('movie_summaries_ada/movie.metadata.tsv', sep='\\t', header=None)\n",
    "# Define the columns\n",
    "movies.columns = ['wikipedia_id', 'freebase_id', 'name', 'release_date', 'revenue', 'runtime', \n",
    "                  'languages', 'countries', 'genres']\n",
    "\n",
    "# Open the character.metadata.tsv file\n",
    "characters = pd.read_csv('movie_summaries_ada/character.metadata.tsv', sep='\\t', header=None)\n",
    "# Define the columns of the character file\n",
    "characters.columns = ['wikipedia_movie_id','freebase_movie_id','movie_release_date',\n",
    "                      'character_name','actor_birth','actor_gender','actor_height',\n",
    "                      'actor_etnicity','actor_name','actor_age_at_release',\n",
    "                      'freebase_char_actor_map_id','freebase_character_id','freebase_actor_id']\n",
    "                      "
   ]
  },
  {
   "cell_type": "markdown",
   "metadata": {},
   "source": [
    "# 1. Movies Dataset:"
   ]
  },
  {
   "cell_type": "markdown",
   "metadata": {},
   "source": [
    "First let's get an idea of our movies dataset"
   ]
  },
  {
   "cell_type": "code",
   "execution_count": 43,
   "metadata": {},
   "outputs": [
    {
     "name": "stdout",
     "output_type": "stream",
     "text": [
      "Original size: 81741\n",
      "Number of unique names: 75478\n",
      "Number of unique wiki ids: 81741\n",
      "Number of unique tuples: 81699\n",
      "Number of duplicates: 42\n",
      "New size without duplicates: 81699\n"
     ]
    }
   ],
   "source": [
    "# There are 81741 rows\n",
    "print(\"Original size: \"+str(len(movies['wikipedia_id'])))\n",
    "# Check for duplicate wikipedia_id or name, every line is indeed unique but there are \n",
    "# duplicates in the name column\n",
    "print(\"Number of unique names: \"+str(len(movies['name'].unique())))\n",
    "print(\"Number of unique wiki ids: \"+str(len(movies['wikipedia_id'].unique())))\n",
    "# Show an example of duplicated name, differ in the release date, and runtime\n",
    "# Key identifier is the (name, release_date, runtime) tuple\n",
    "# Check for duplicates in the tuple\n",
    "print(\"Number of unique tuples: \"+str(len(movies.groupby(['name','release_date','runtime']))))\n",
    "# Show an example of duplicated tuple\n",
    "# Effective size is 81699 rows from now on\n",
    "# Record the duplicates names in a list\n",
    "duplicates = movies[movies.duplicated(['name','release_date','runtime'])]\n",
    "print(\"Number of duplicates: \"+str(len(duplicates)))\n",
    "# Remove the duplicates keeping the row with the highest revenue\n",
    "movies = movies.sort_values('revenue', ascending=False).drop_duplicates(['name','release_date',\n",
    "                                                                         'runtime']).sort_index()\n",
    "print(\"New size without duplicates: \"+str(len(movies['wikipedia_id'])))\n",
    "# Need to transform the release_date column to year because of IMBd dataset\n",
    "movies['year_release'] = pd.to_datetime(movies[\"release_date\"], infer_datetime_format=True, \n",
    "                                        errors=\"coerce\").dt.year\n"
   ]
  },
  {
   "cell_type": "code",
   "execution_count": 44,
   "metadata": {},
   "outputs": [
    {
     "name": "stdout",
     "output_type": "stream",
     "text": [
      "Percentage of NaNs in each column: \n",
      "wikipedia_id     0.000000\n",
      "freebase_id      0.000000\n",
      "name             0.000000\n",
      "release_date     8.407692\n",
      "revenue         89.717132\n",
      "runtime         24.986842\n",
      "languages        0.000000\n",
      "countries        0.000000\n",
      "genres           0.000000\n",
      "year_release     8.408916\n",
      "dtype: float64\n",
      "Statistics for revenue: \n",
      "count    8.401000e+03\n",
      "mean     4.799363e+07\n",
      "std      1.121753e+08\n",
      "min      1.000000e+04\n",
      "25%      2.083193e+06\n",
      "50%      1.063969e+07\n",
      "75%      4.071696e+07\n",
      "max      2.782275e+09\n",
      "Name: revenue, dtype: float64\n",
      "Distribution of genres: \n",
      "{\"/m/07s9rl0\": \"Drama\"}                                                                                                                                                                     6848\n",
      "{}                                                                                                                                                                                          2288\n",
      "{\"/m/01z4y\": \"Comedy\"}                                                                                                                                                                      2038\n",
      "{\"/m/0jtdp\": \"Documentary\"}                                                                                                                                                                 2000\n",
      "{\"/m/05p553\": \"Comedy film\"}                                                                                                                                                                1384\n",
      "                                                                                                                                                                                            ... \n",
      "{\"/m/0hj3n07\": \"Culture & Society\", \"/m/017fp\": \"Biography\", \"/m/0hj3n4b\": \"Gender Issues\", \"/m/03mqtr\": \"Political drama\", \"/m/075fzd\": \"Social issues\", \"/m/0jtdp\": \"Documentary\"}           1\n",
      "{\"/m/0g092b\": \"Monster movie\", \"/m/06n90\": \"Science Fiction\", \"/m/03npn\": \"Horror\", \"/m/0cq22z7\": \"Sci-Fi Horror\", \"/m/0h9qh\": \"Monster\"}                                                      1\n",
      "{\"/m/0hn10\": \"LGBT\", \"/m/04rlf\": \"Music\", \"/m/02l7c8\": \"Romance Film\", \"/m/07s9rl0\": \"Drama\", \"/m/03q4nz\": \"World cinema\"}                                                                     1\n",
      "{\"/m/06ppq\": \"Silent film\", \"/m/07s9rl0\": \"Drama\", \"/m/03bxz7\": \"Biographical film\", \"/m/0219x_\": \"Indie\"}                                                                                     1\n",
      "{\"/m/06n90\": \"Science Fiction\", \"/m/0gw5n2f\": \"Japanese Movies\", \"/m/03k9fj\": \"Adventure\", \"/m/0hcr\": \"Animation\", \"/m/02hmvc\": \"Short Film\", \"/m/0jxy\": \"Anime\", \"/m/07s9rl0\": \"Drama\"}       1\n",
      "Name: genres, Length: 23814, dtype: int64\n"
     ]
    },
    {
     "data": {
      "image/png": "[encoded data removed]",
      "text/plain": [
       "<Figure size 640x480 with 1 Axes>"
      ]
     },
     "metadata": {},
     "output_type": "display_data"
    }
   ],
   "source": [
    "# Check for outliers, percentage of NaNs in each column and distributions (min, max, mean, std)\n",
    "# Compute percentage of NaNs in each column \n",
    "print(\"Percentage of NaNs in each column: \")\n",
    "print(movies.isnull().sum()/len(movies)*100)\n",
    "# Compute statistics for revenue\n",
    "print(\"Statistics for revenue: \")\n",
    "print(movies['revenue'].describe())\n",
    "# Plot the distribution of revenue with point cloud\n",
    "movies['revenue'].plot(kind='box')\n",
    "\n",
    "# Compute the distribution of genres\n",
    "print(\"Distribution of genres: \")\n",
    "print(movies['genres'].value_counts())\n",
    "# There is a lot of subcategories, probably need to group them. 2k NaNs and 6k Drama \n",
    "# (3 times as much as next one)"
   ]
  },
  {
   "cell_type": "markdown",
   "metadata": {},
   "source": [
    "We clearly have some outliers for the revenue metric, and only `10%` of the movies have this information. On the other hand, we will drop all the movies that have NaNs in our key tuple. Therefore the dataset has no other NaNs than the revenue which will be analyzed in the last question with a seperately prepared df (see 4th chapter of this notebook)."
   ]
  },
  {
   "cell_type": "code",
   "execution_count": 45,
   "metadata": {},
   "outputs": [
    {
     "name": "stdout",
     "output_type": "stream",
     "text": [
      "New size after dropping NaNs: 58624\n"
     ]
    }
   ],
   "source": [
    "# Need to drop NaNs in the runtime, release year and name column in order to be able \n",
    "# to correctly identify the movies\n",
    "movies = movies.dropna(subset=['runtime','year_release','name'])\n",
    "\n",
    "# Runtime is int in IMBd dataset and float in the other one, need to convert it to int \n",
    "# with a ceiling\n",
    "movies['runtime'] = movies['runtime'].apply(lambda x: int(math.ceil(x)))\n",
    "# Transform the year_release column to int\n",
    "movies['year_release'] = movies['year_release'].astype(int)\n",
    "\n",
    "# Print new size of movies (58k)\n",
    "print(\"New size after dropping NaNs: \"+str(len(movies['wikipedia_id'])))"
   ]
  },
  {
   "cell_type": "markdown",
   "metadata": {},
   "source": [
    "Now we need to include the IMDB rating into our movies df, as this is our primary indicator for the performance of a movie. To establish a connection between our movie df and the ratings through our \"key tuple\" of (primaryTitle, startYear, runTime) we need to use a third dataset, the titles_imbd, which contains those informations (the rating_imbd df alone does not contain it).\n",
    "\n",
    "First let's load the necessary titles_imdb and rating_imdb data in df's."
   ]
  },
  {
   "cell_type": "code",
   "execution_count": 46,
   "metadata": {},
   "outputs": [
    {
     "name": "stderr",
     "output_type": "stream",
     "text": [
      "/var/folders/nb/6_kh75dx3xb3cgzlclgmvcx00000gn/T/ipykernel_8066/763345039.py:3: DtypeWarning: Columns (4) have mixed types. Specify dtype option on import or set low_memory=False.\n",
      "  titles_imbd = pd.read_csv('IMDB/title.basics.tsv', sep='\\t')\n"
     ]
    }
   ],
   "source": [
    "# Load the heavy files aka titles imbd to find the imdb unique id, then use it to find \n",
    "# the imdb rating and merge it with the movies dataframe\n",
    "titles_imbd = pd.read_csv('IMDB/title.basics.tsv', sep='\\t')\n",
    "# Keep only the columns we need\n",
    "titles_imbd = titles_imbd[['tconst','primaryTitle','startYear','runtimeMinutes']]\n",
    "\n",
    "# Load the imdb rating file\n",
    "rating_imbd = pd.read_csv('IMDB/title.ratings.tsv', sep='\\t')"
   ]
  },
  {
   "cell_type": "markdown",
   "metadata": {},
   "source": [
    "Now we are first merging the titles_imdb and rating_imdb."
   ]
  },
  {
   "cell_type": "code",
   "execution_count": 47,
   "metadata": {},
   "outputs": [
    {
     "name": "stderr",
     "output_type": "stream",
     "text": [
      "/var/folders/nb/6_kh75dx3xb3cgzlclgmvcx00000gn/T/ipykernel_8066/1849682644.py:2: FutureWarning: The pandas.np module is deprecated and will be removed from pandas in a future version. Import numpy directly instead.\n",
      "  titles_imbd = titles_imbd.replace('\\\\N', pd.np.nan)\n"
     ]
    },
    {
     "name": "stdout",
     "output_type": "stream",
     "text": [
      "Size of titles_imbd: 954273\n"
     ]
    }
   ],
   "source": [
    "# Replacing the \\N values with NaN\n",
    "titles_imbd = titles_imbd.replace('\\\\N', pd.np.nan)\n",
    "# Drop the rows with NaN values\n",
    "titles_imbd = titles_imbd.dropna()\n",
    "\n",
    "# Convert the startYear and runtimeMinutes column to numbers\n",
    "titles_imbd['startYear'] = titles_imbd['startYear'].astype(int)\n",
    "titles_imbd['runtimeMinutes'] = titles_imbd['runtimeMinutes'].astype(int)\n",
    "\n",
    "# Drop duplicates from the titles_imbd dataframe if the tuple (primaryTitle, startYear, \n",
    "# runtimeMinutes) is duplicated\n",
    "titles_imbd = titles_imbd.sort_values('runtimeMinutes', ascending=False).drop_duplicates(\n",
    "                ['primaryTitle','startYear','runtimeMinutes']).sort_index()\n",
    "\n",
    "# Merge the ratings_imbd dataframe with the titles_imbd dataframe\n",
    "titles_imbd = titles_imbd.merge(rating_imbd, on='tconst')\n",
    "\n",
    "# Show size of the dataframe\n",
    "print(\"Size of titles_imbd: \"+str(len(titles_imbd['tconst'])))"
   ]
  },
  {
   "cell_type": "markdown",
   "metadata": {},
   "source": [
    "After having merged rating_imdb into titles_imdb we can finally merge the ratings into our movies df by using our id tuple (primaryTitle, startYear, runtimeMinutes)."
   ]
  },
  {
   "cell_type": "code",
   "execution_count": 48,
   "metadata": {},
   "outputs": [
    {
     "name": "stdout",
     "output_type": "stream",
     "text": [
      "New size after merging with imdb: 58624\n",
      "25515 movies have a rating over 58624 movies, so 44 % movies do have a rating\n",
      "New size after dropping movies without rating: 25515\n",
      "(25515, 12)\n"
     ]
    }
   ],
   "source": [
    "# Merge the movies dataframe with the titles_imbd dataframe\n",
    "movies = movies.merge(titles_imbd, left_on=['name','year_release','runtime'], \n",
    "                      right_on=['primaryTitle','startYear','runtimeMinutes'], how='left')\n",
    "# Drop the useless columns\n",
    "movies = movies.drop(columns=['primaryTitle','startYear','runtimeMinutes','tconst'])\n",
    "\n",
    "# Show new size of movies after merging with imdb\n",
    "print(\"New size after merging with imdb: \"+str(len(movies['wikipedia_id'])))\n",
    "\n",
    "# 44.4% of the movies have a rating\n",
    "print(str(movies.averageRating.count())+' movies have a rating over '+\n",
    "      str(movies.name.count())+' movies, so '+\n",
    "      str(round(movies.averageRating.count()*100/movies.name.count()))+\n",
    "      ' % movies do have a rating')\n",
    "\n",
    "# We drop all the movies that don't have a rating because it is our dependent variable\n",
    "movies = movies.dropna(subset=['averageRating'])\n",
    "\n",
    "# Show new size of movies after dropping movies without rating (25k)\n",
    "print(\"New size after dropping movies without rating: \"+str(len(movies['wikipedia_id'])))\n",
    "# Show size of the dataframe\n",
    "print(movies.shape)"
   ]
  },
  {
   "cell_type": "markdown",
   "metadata": {},
   "source": [
    "As we can see, using our triple unique key `(name,release_year,runtime)` and filtering for all the movies we can correctly identify with this, we obtain 25515 movies with rating. This is the dependent variable for all our questions, therefore we have enough to do our analysis.\n",
    "Before we finalize our movies df below, let's first prepare the data about the actors."
   ]
  },
  {
   "cell_type": "markdown",
   "metadata": {},
   "source": [
    "# 2. Actors Dataset:"
   ]
  },
  {
   "cell_type": "markdown",
   "metadata": {},
   "source": [
    "To answer our research questions using the actors dataset, we need data about the popularity, experience and awards /nominations of an actor. This is done in the following code cells by adding the respective columns stemming from further datasets to our data about actors.\n",
    "\n",
    "First we are gonna calculate the number of nominations per actor."
   ]
  },
  {
   "cell_type": "code",
   "execution_count": 49,
   "metadata": {},
   "outputs": [],
   "source": [
    "# Filter the awards dataframe to only keep the rows with category containing ACTOR or ACTRESS\n",
    "awards_actors = awards[awards.category.str.contains('ACTOR|ACTRESS')]\n",
    "\n",
    "# Count the number of awards per entity in awards_actors\n",
    "awards_actors_count = awards_actors.groupby('entity',as_index=False).count()"
   ]
  },
  {
   "cell_type": "markdown",
   "metadata": {},
   "source": [
    "Now let's merge this number of nominations to our actors_list.\n",
    "\n",
    "Afterwards we are calculating an actors experience by counting the movies he did and using the data about fame in the actors df to include it into the actors_list as well."
   ]
  },
  {
   "cell_type": "code",
   "execution_count": 50,
   "metadata": {},
   "outputs": [
    {
     "name": "stdout",
     "output_type": "stream",
     "text": [
      "(134079, 1)\n",
      "(134079, 2)\n",
      "(134079, 3)\n",
      "(134079, 7)\n",
      "1310 actors have a Fame value over 134078 actors, so 1 % actors do have a Fame value\n"
     ]
    }
   ],
   "source": [
    "# Get a list of unique actors from the character dataframe\n",
    "actors_list = pd.DataFrame(characters.actor_name.unique())\n",
    "print(actors_list.shape)\n",
    "\n",
    "# Rename the column\n",
    "actors_list.columns = ['name']\n",
    "\n",
    "# Add a column to the actors_list dataframe with the winners count\n",
    "actors_list = actors_list.merge(awards_actors_count[['entity','winner']], left_on='name', \n",
    "                                right_on='entity', how='left')\n",
    "\n",
    "# Drop the entity column\n",
    "actors_list = actors_list.drop(columns=['entity'])\n",
    "\n",
    "# Rename the count column\n",
    "actors_list = actors_list.rename(columns={'winner': 'awards'})\n",
    "\n",
    "# Fill the NaN values in the awards column with 0\n",
    "actors_list['awards'] = actors_list['awards'].fillna(0)\n",
    "print(actors_list.shape)\n",
    "\n",
    "# Create a dataframe with the number of movies per actor\n",
    "actors_movies_count = pd.DataFrame(characters.actor_name.value_counts())\n",
    "\n",
    "# Add a column to the actors_list dataframe with the movies count\n",
    "actors_list = actors_list.merge(actors_movies_count, left_on='name', right_index=True, how='left')\n",
    "# Rename the count column\n",
    "actors_list = actors_list.rename(columns={'actor_name': 'movies'})\n",
    "print(actors_list.shape)\n",
    "\n",
    "# Replace the Actor column of actors dataframe by the same value but replace each _ by a space\n",
    "actors['Actor'] = actors['Actor'].str.replace('_', ' ')\n",
    "\n",
    "# Add the actors dataframe to the actors_list dataframe on the Actor column and name column respectively\n",
    "actors_list = actors_list.merge(actors, left_on='name', right_on='Actor', how='left')\n",
    "\n",
    "# Drop the Actor column\n",
    "actors_list = actors_list.drop(columns=['Actor'])\n",
    "print(actors_list.shape)\n",
    "\n",
    "# Print the number of actors with a Fame value\n",
    "print(str(actors_list.Fame.count()) + ' actors have a Fame value over ' \n",
    "      + str(actors_list.name.count()) + ' actors, so ' \n",
    "      + str(round(actors_list.Fame.count() * 100/actors_list.name.count())) \n",
    "      + ' % actors do have a Fame value')\n",
    "\n",
    "# Replace the NaN values in the Fame, Liked, Disliked, Neutral columns by 0\n",
    "actors_list['Fame'] = actors_list['Fame'].fillna(0)\n",
    "actors_list['Liked'] = actors_list['Liked'].fillna(0)\n",
    "actors_list['Disliked'] = actors_list['Disliked'].fillna(0)\n",
    "actors_list['Neutral'] = actors_list['Neutral'].fillna(0)"
   ]
  },
  {
   "cell_type": "markdown",
   "metadata": {},
   "source": [
    "Until now we have the name, popularity, number of nominations experience of an actor. We use the characters df to get some metadata like gender, birthdate and ethnicity."
   ]
  },
  {
   "cell_type": "code",
   "execution_count": 51,
   "metadata": {},
   "outputs": [
    {
     "data": {
      "text/html": [
       "<div>\n",
       "<style scoped>\n",
       "    .dataframe tbody tr th:only-of-type {\n",
       "        vertical-align: middle;\n",
       "    }\n",
       "\n",
       "    .dataframe tbody tr th {\n",
       "        vertical-align: top;\n",
       "    }\n",
       "\n",
       "    .dataframe thead th {\n",
       "        text-align: right;\n",
       "    }\n",
       "</style>\n",
       "<table border=\"1\" class=\"dataframe\">\n",
       "  <thead>\n",
       "    <tr style=\"text-align: right;\">\n",
       "      <th></th>\n",
       "      <th>actor_birth</th>\n",
       "      <th>actor_gender</th>\n",
       "      <th>actor_height</th>\n",
       "      <th>actor_etnicity</th>\n",
       "      <th>actor_name</th>\n",
       "      <th>freebase_actor_id</th>\n",
       "    </tr>\n",
       "  </thead>\n",
       "  <tbody>\n",
       "    <tr>\n",
       "      <th>0</th>\n",
       "      <td>1958-08-26</td>\n",
       "      <td>F</td>\n",
       "      <td>1.620</td>\n",
       "      <td>NaN</td>\n",
       "      <td>Wanda De Jesus</td>\n",
       "      <td>/m/03wcfv7</td>\n",
       "    </tr>\n",
       "    <tr>\n",
       "      <th>1</th>\n",
       "      <td>1974-08-15</td>\n",
       "      <td>F</td>\n",
       "      <td>1.780</td>\n",
       "      <td>/m/044038p</td>\n",
       "      <td>Natasha Henstridge</td>\n",
       "      <td>/m/0346l4</td>\n",
       "    </tr>\n",
       "    <tr>\n",
       "      <th>2</th>\n",
       "      <td>1969-06-15</td>\n",
       "      <td>M</td>\n",
       "      <td>1.727</td>\n",
       "      <td>/m/0x67</td>\n",
       "      <td>Ice Cube</td>\n",
       "      <td>/m/01vw26l</td>\n",
       "    </tr>\n",
       "    <tr>\n",
       "      <th>3</th>\n",
       "      <td>1967-09-12</td>\n",
       "      <td>M</td>\n",
       "      <td>1.750</td>\n",
       "      <td>NaN</td>\n",
       "      <td>Jason Statham</td>\n",
       "      <td>/m/034hyc</td>\n",
       "    </tr>\n",
       "    <tr>\n",
       "      <th>4</th>\n",
       "      <td>1977-09-25</td>\n",
       "      <td>F</td>\n",
       "      <td>1.650</td>\n",
       "      <td>NaN</td>\n",
       "      <td>Clea DuVall</td>\n",
       "      <td>/m/01y9xg</td>\n",
       "    </tr>\n",
       "  </tbody>\n",
       "</table>\n",
       "</div>"
      ],
      "text/plain": [
       "  actor_birth actor_gender  actor_height actor_etnicity          actor_name  \\\n",
       "0  1958-08-26            F         1.620            NaN      Wanda De Jesus   \n",
       "1  1974-08-15            F         1.780     /m/044038p  Natasha Henstridge   \n",
       "2  1969-06-15            M         1.727        /m/0x67            Ice Cube   \n",
       "3  1967-09-12            M         1.750            NaN       Jason Statham   \n",
       "4  1977-09-25            F         1.650            NaN         Clea DuVall   \n",
       "\n",
       "  freebase_actor_id  \n",
       "0        /m/03wcfv7  \n",
       "1         /m/0346l4  \n",
       "2        /m/01vw26l  \n",
       "3         /m/034hyc  \n",
       "4         /m/01y9xg  "
      ]
     },
     "execution_count": 51,
     "metadata": {},
     "output_type": "execute_result"
    }
   ],
   "source": [
    "# Make a pandas dataframe of the characters dataframe with only the first row of each actor\n",
    "actors_metadata = characters.drop_duplicates(subset=['actor_name'], keep='first')\n",
    "\n",
    "# Drop the columns that we don't need\n",
    "actors_metadata = actors_metadata.drop(columns=['wikipedia_movie_id', 'freebase_movie_id', \n",
    "                                                'movie_release_date', 'character_name',\n",
    "                                                'actor_age_at_release', \n",
    "                                                'freebase_char_actor_map_id', \n",
    "                                                'freebase_character_id'])\n",
    "actors_metadata.head()"
   ]
  },
  {
   "cell_type": "markdown",
   "metadata": {},
   "source": [
    "Finally we merge the actor's metadata and the other data about actors in actors_list (number of nominations etc.) into one final actors_info df."
   ]
  },
  {
   "cell_type": "code",
   "execution_count": 52,
   "metadata": {},
   "outputs": [
    {
     "name": "stdout",
     "output_type": "stream",
     "text": [
      "(134079, 12)\n",
      "  actor_birth actor_gender  actor_height actor_etnicity          actor_name  \\\n",
      "0  1958-08-26            F         1.620            NaN      Wanda De Jesus   \n",
      "1  1974-08-15            F         1.780     /m/044038p  Natasha Henstridge   \n",
      "2  1969-06-15            M         1.727        /m/0x67            Ice Cube   \n",
      "3  1967-09-12            M         1.750            NaN       Jason Statham   \n",
      "4  1977-09-25            F         1.650            NaN         Clea DuVall   \n",
      "\n",
      "  freebase_actor_id  awards  movies  Fame  Liked  Disliked  Neutral  \n",
      "0        /m/03wcfv7     0.0     8.0   0.0    0.0       0.0      0.0  \n",
      "1         /m/0346l4     0.0    23.0   0.0    0.0       0.0      0.0  \n",
      "2        /m/01vw26l     0.0    33.0  93.0   57.0      11.0     25.0  \n",
      "3         /m/034hyc     0.0    31.0  78.0   59.0       4.0     14.0  \n",
      "4         /m/01y9xg     0.0    31.0   0.0    0.0       0.0      0.0  \n"
     ]
    }
   ],
   "source": [
    "actors_info = actors_metadata.merge(actors_list, left_on='actor_name', right_on='name', \n",
    "                                    how='left')\n",
    "actors_info = actors_info.drop(columns=['name'])\n",
    "print(actors_info.shape)\n",
    "print(actors_info.head())"
   ]
  },
  {
   "cell_type": "code",
   "execution_count": 53,
   "metadata": {},
   "outputs": [
    {
     "name": "stdout",
     "output_type": "stream",
     "text": [
      "Percentage of NaNs in each column: \n",
      "actor_birth          56.755346\n",
      "actor_gender         28.192334\n",
      "actor_height         90.464577\n",
      "actor_etnicity       93.955056\n",
      "actor_name            0.000746\n",
      "freebase_actor_id     0.000746\n",
      "awards                0.000000\n",
      "movies                0.000746\n",
      "Fame                  0.000000\n",
      "Liked                 0.000000\n",
      "Disliked              0.000000\n",
      "Neutral               0.000000\n",
      "dtype: float64\n"
     ]
    }
   ],
   "source": [
    "# Show the percentage of NaNs in each column of actors_info\n",
    "print(\"Percentage of NaNs in each column: \")\n",
    "print(actors_info.isnull().sum()/len(actors_info)*100)"
   ]
  },
  {
   "attachments": {},
   "cell_type": "markdown",
   "metadata": {},
   "source": [
    "We can observe that we have information for 134079 actors. \n",
    "\n",
    "`0.000746%` of them have no name, id or movie, so are useless as they have no information for the movie. On the bright side, we still have `6%` of actors ethnicity and `10%` of gender. This ratio is for unique actors, it represents a much larger sample in the character dataset."
   ]
  },
  {
   "cell_type": "markdown",
   "metadata": {},
   "source": [
    "# 3. Character Dataset:"
   ]
  },
  {
   "cell_type": "markdown",
   "metadata": {},
   "source": [
    "The character dataset is a starting point to give us a lot of information about actors at a certain point in time. To answer our questions, we still need to enrich it by data about awards /nominations, experience and fame of an actor up unto his role.\n",
    "In the following cells we examine the df to get an idea of the data, align the data with our movies df (so the results are comparable) and add features as mentioned in the previous sentence.\n",
    "\n",
    "Let's start by getting some idea about the data and aligning the df with our movies df by removing characters of movies not included in our movies df."
   ]
  },
  {
   "cell_type": "code",
   "execution_count": 54,
   "metadata": {},
   "outputs": [
    {
     "name": "stdout",
     "output_type": "stream",
     "text": [
      "Initial size of characters: (450669, 13)\n",
      "New size of the dataset(450669, 17)\n",
      "Percentage of NaNs in each column: \n",
      "wikipedia_movie_id             0.000000\n",
      "freebase_movie_id              0.000000\n",
      "movie_release_date             2.217814\n",
      "character_name                57.220488\n",
      "actor_birth                   23.552763\n",
      "actor_gender                  10.120288\n",
      "actor_height                  65.645740\n",
      "actor_etnicity                76.466542\n",
      "actor_name                     0.272484\n",
      "actor_age_at_release          35.084064\n",
      "freebase_char_actor_map_id     0.000000\n",
      "freebase_character_id         57.218269\n",
      "freebase_actor_id              0.180842\n",
      "Fame                           0.000000\n",
      "Liked                          0.000000\n",
      "Disliked                       0.000000\n",
      "Neutral                        0.000000\n",
      "dtype: float64\n",
      "New size of the dataset after removing not reviewed movies: (171045, 17)\n",
      "Percentage of NaNs in each column: \n",
      "wikipedia_movie_id             0.000000\n",
      "freebase_movie_id              0.000000\n",
      "movie_release_date             0.000000\n",
      "character_name                53.048613\n",
      "actor_birth                   22.229238\n",
      "actor_gender                   9.674062\n",
      "actor_height                  63.221959\n",
      "actor_etnicity                78.830132\n",
      "actor_name                     0.232103\n",
      "actor_age_at_release          33.248560\n",
      "freebase_char_actor_map_id     0.000000\n",
      "freebase_character_id         53.046274\n",
      "freebase_actor_id              0.144991\n",
      "Fame                           0.000000\n",
      "Liked                          0.000000\n",
      "Disliked                       0.000000\n",
      "Neutral                        0.000000\n",
      "dtype: float64\n"
     ]
    }
   ],
   "source": [
    "# Show initial size of character dataframe\n",
    "print(\"Initial size of characters: \"+str(characters.shape))\n",
    "# Merge additional info of the actors to the characters dataframe\n",
    "characters = characters.merge(actors_list[['name','Fame','Liked','Disliked','Neutral']], \n",
    "                              left_on='actor_name', right_on='name', how='left')\n",
    "characters = characters.drop(columns=['name'])\n",
    "# Show new size of characters dataframe\n",
    "print(\"New size of the dataset\"+str(characters.shape))\n",
    "# Compute percentage of NaNs in each column\n",
    "print(\"Percentage of NaNs in each column: \")\n",
    "print(characters.isnull().sum()/len(characters)*100)\n",
    "# Etnicty at 76% missing and gender at 10% missing\n",
    "# Recomputed later when we remove the movies we don't have the rating for\n",
    "\n",
    "# Filter out all the character rows which wikipedia_movie_id is not in the movies dataframe\n",
    "characters = characters[characters.wikipedia_movie_id.isin(movies.wikipedia_id)]\n",
    "# Show new size of characters dataframe\n",
    "print(\"New size of the dataset after removing not reviewed movies: \"+str(characters.shape))\n",
    "\n",
    "# Compute percentage of NaNs in each column\n",
    "print(\"Percentage of NaNs in each column: \")\n",
    "print(characters.isnull().sum()/len(characters)*100)\n"
   ]
  },
  {
   "cell_type": "markdown",
   "metadata": {},
   "source": [
    "As we can see, we have `21%` of our characters' etnicity, `90%` of our characters' gender and all the fame values, which is 0 if the actor is known by less than 49% of the US population. We therefore have enough data for our both questions. Add to this, we also have `47%` of character types ids, and `78%` of the age at release."
   ]
  },
  {
   "cell_type": "markdown",
   "metadata": {},
   "source": [
    "We start by calculating the number of nominations an actor got up until a role."
   ]
  },
  {
   "cell_type": "code",
   "execution_count": 55,
   "metadata": {},
   "outputs": [
    {
     "name": "stdout",
     "output_type": "stream",
     "text": [
      "No. of NaN release years before merge: 0\n",
      "Unique cumcounts: [ 1.  2.  3.  4.  7.  9. 10.]\n",
      "nominations of Katharine Hepburn: year              12\n",
      "category          12\n",
      "winner            12\n",
      "entity            12\n",
      "award_cumcount    12\n",
      "dtype: int64\n"
     ]
    },
    {
     "data": {
      "text/plain": [
       "count    171060.000000\n",
       "mean          0.096966\n",
       "std           0.537525\n",
       "min           0.000000\n",
       "25%           0.000000\n",
       "50%           0.000000\n",
       "75%           0.000000\n",
       "max          16.000000\n",
       "Name: award_cumcount, dtype: float64"
      ]
     },
     "metadata": {},
     "output_type": "display_data"
    },
    {
     "data": {
      "text/html": [
       "<div>\n",
       "<style scoped>\n",
       "    .dataframe tbody tr th:only-of-type {\n",
       "        vertical-align: middle;\n",
       "    }\n",
       "\n",
       "    .dataframe tbody tr th {\n",
       "        vertical-align: top;\n",
       "    }\n",
       "\n",
       "    .dataframe thead th {\n",
       "        text-align: right;\n",
       "    }\n",
       "</style>\n",
       "<table border=\"1\" class=\"dataframe\">\n",
       "  <thead>\n",
       "    <tr style=\"text-align: right;\">\n",
       "      <th></th>\n",
       "      <th>wikipedia_movie_id</th>\n",
       "      <th>freebase_movie_id</th>\n",
       "      <th>movie_release_date</th>\n",
       "      <th>character_name</th>\n",
       "      <th>actor_birth</th>\n",
       "      <th>actor_gender</th>\n",
       "      <th>actor_height</th>\n",
       "      <th>actor_etnicity</th>\n",
       "      <th>actor_name</th>\n",
       "      <th>actor_age_at_release</th>\n",
       "      <th>freebase_char_actor_map_id</th>\n",
       "      <th>freebase_character_id</th>\n",
       "      <th>freebase_actor_id</th>\n",
       "      <th>Fame</th>\n",
       "      <th>Liked</th>\n",
       "      <th>Disliked</th>\n",
       "      <th>Neutral</th>\n",
       "      <th>award_cumcount</th>\n",
       "    </tr>\n",
       "  </thead>\n",
       "  <tbody>\n",
       "    <tr>\n",
       "      <th>72641</th>\n",
       "      <td>101914</td>\n",
       "      <td>/m/0ptx_</td>\n",
       "      <td>1975</td>\n",
       "      <td>Sonny</td>\n",
       "      <td>1940-04-25</td>\n",
       "      <td>M</td>\n",
       "      <td>1.7</td>\n",
       "      <td>/m/0xnvg</td>\n",
       "      <td>Al Pacino</td>\n",
       "      <td>34.0</td>\n",
       "      <td>/m/0jxdcl</td>\n",
       "      <td>/m/02nwdcx</td>\n",
       "      <td>/m/0bj9k</td>\n",
       "      <td>93.0</td>\n",
       "      <td>73.0</td>\n",
       "      <td>5.0</td>\n",
       "      <td>15.0</td>\n",
       "      <td>4.0</td>\n",
       "    </tr>\n",
       "    <tr>\n",
       "      <th>149416</th>\n",
       "      <td>1880546</td>\n",
       "      <td>/m/06391r</td>\n",
       "      <td>1977</td>\n",
       "      <td>NaN</td>\n",
       "      <td>1940-04-25</td>\n",
       "      <td>M</td>\n",
       "      <td>1.7</td>\n",
       "      <td>/m/0xnvg</td>\n",
       "      <td>Al Pacino</td>\n",
       "      <td>36.0</td>\n",
       "      <td>/m/0k56ng</td>\n",
       "      <td>NaN</td>\n",
       "      <td>/m/0bj9k</td>\n",
       "      <td>93.0</td>\n",
       "      <td>73.0</td>\n",
       "      <td>5.0</td>\n",
       "      <td>15.0</td>\n",
       "      <td>4.0</td>\n",
       "    </tr>\n",
       "    <tr>\n",
       "      <th>1869</th>\n",
       "      <td>10594693</td>\n",
       "      <td>/m/02qjrcp</td>\n",
       "      <td>1977-09-29</td>\n",
       "      <td>Bobby Deerfield</td>\n",
       "      <td>1940-04-25</td>\n",
       "      <td>M</td>\n",
       "      <td>1.7</td>\n",
       "      <td>/m/0xnvg</td>\n",
       "      <td>Al Pacino</td>\n",
       "      <td>37.0</td>\n",
       "      <td>/m/02tb2th</td>\n",
       "      <td>/m/09jz80h</td>\n",
       "      <td>/m/0bj9k</td>\n",
       "      <td>93.0</td>\n",
       "      <td>73.0</td>\n",
       "      <td>5.0</td>\n",
       "      <td>15.0</td>\n",
       "      <td>4.0</td>\n",
       "    </tr>\n",
       "    <tr>\n",
       "      <th>68570</th>\n",
       "      <td>2075256</td>\n",
       "      <td>/m/06kg0c</td>\n",
       "      <td>1980-02-08</td>\n",
       "      <td>NaN</td>\n",
       "      <td>1940-04-25</td>\n",
       "      <td>M</td>\n",
       "      <td>1.7</td>\n",
       "      <td>/m/0xnvg</td>\n",
       "      <td>Al Pacino</td>\n",
       "      <td>39.0</td>\n",
       "      <td>/m/0jwvcj</td>\n",
       "      <td>NaN</td>\n",
       "      <td>/m/0bj9k</td>\n",
       "      <td>93.0</td>\n",
       "      <td>73.0</td>\n",
       "      <td>5.0</td>\n",
       "      <td>15.0</td>\n",
       "      <td>4.0</td>\n",
       "    </tr>\n",
       "    <tr>\n",
       "      <th>128765</th>\n",
       "      <td>3989120</td>\n",
       "      <td>/m/0bb91x</td>\n",
       "      <td>1982-06-18</td>\n",
       "      <td>Ivan Travalian</td>\n",
       "      <td>1940-04-25</td>\n",
       "      <td>M</td>\n",
       "      <td>1.7</td>\n",
       "      <td>/m/0xnvg</td>\n",
       "      <td>Al Pacino</td>\n",
       "      <td>42.0</td>\n",
       "      <td>/m/0jtvfq</td>\n",
       "      <td>/m/0h6fndg</td>\n",
       "      <td>/m/0bj9k</td>\n",
       "      <td>93.0</td>\n",
       "      <td>73.0</td>\n",
       "      <td>5.0</td>\n",
       "      <td>15.0</td>\n",
       "      <td>4.0</td>\n",
       "    </tr>\n",
       "  </tbody>\n",
       "</table>\n",
       "</div>"
      ],
      "text/plain": [
       "        wikipedia_movie_id freebase_movie_id movie_release_date  \\\n",
       "72641               101914          /m/0ptx_               1975   \n",
       "149416             1880546         /m/06391r               1977   \n",
       "1869              10594693        /m/02qjrcp         1977-09-29   \n",
       "68570              2075256         /m/06kg0c         1980-02-08   \n",
       "128765             3989120         /m/0bb91x         1982-06-18   \n",
       "\n",
       "         character_name actor_birth actor_gender  actor_height actor_etnicity  \\\n",
       "72641             Sonny  1940-04-25            M           1.7       /m/0xnvg   \n",
       "149416              NaN  1940-04-25            M           1.7       /m/0xnvg   \n",
       "1869    Bobby Deerfield  1940-04-25            M           1.7       /m/0xnvg   \n",
       "68570               NaN  1940-04-25            M           1.7       /m/0xnvg   \n",
       "128765   Ivan Travalian  1940-04-25            M           1.7       /m/0xnvg   \n",
       "\n",
       "       actor_name  actor_age_at_release freebase_char_actor_map_id  \\\n",
       "72641   Al Pacino                  34.0                  /m/0jxdcl   \n",
       "149416  Al Pacino                  36.0                  /m/0k56ng   \n",
       "1869    Al Pacino                  37.0                 /m/02tb2th   \n",
       "68570   Al Pacino                  39.0                  /m/0jwvcj   \n",
       "128765  Al Pacino                  42.0                  /m/0jtvfq   \n",
       "\n",
       "       freebase_character_id freebase_actor_id  Fame  Liked  Disliked  \\\n",
       "72641             /m/02nwdcx          /m/0bj9k  93.0   73.0       5.0   \n",
       "149416                   NaN          /m/0bj9k  93.0   73.0       5.0   \n",
       "1869              /m/09jz80h          /m/0bj9k  93.0   73.0       5.0   \n",
       "68570                    NaN          /m/0bj9k  93.0   73.0       5.0   \n",
       "128765            /m/0h6fndg          /m/0bj9k  93.0   73.0       5.0   \n",
       "\n",
       "        Neutral  award_cumcount  \n",
       "72641      15.0             4.0  \n",
       "149416     15.0             4.0  \n",
       "1869       15.0             4.0  \n",
       "68570      15.0             4.0  \n",
       "128765     15.0             4.0  "
      ]
     },
     "execution_count": 55,
     "metadata": {},
     "output_type": "execute_result"
    }
   ],
   "source": [
    "# Get cumulative nomination count per actor (nominations until (including) the current award)\n",
    "nominations = awards_actors.copy()\n",
    "nominations['award_cumcount'] = nominations.groupby('entity').cumcount() + 1\n",
    "\n",
    "# Convert 'movie_release_date' to datetime for merging, using coerce for unparseable dates\n",
    "# For rows where conversion failed (resulted in NaT), extract the year directly from the string \n",
    "# (often just the year is given)\n",
    "# Leaves rows with no data about movie_release_date as NaT\n",
    "characters['release_year'] = pd.to_datetime(characters['movie_release_date'], \n",
    "                                            errors='coerce').dt.year\n",
    "characters['release_year'] = characters['release_year'].fillna(characters['movie_release_date']\n",
    "                                                               .str.extract(r'(\\d{4})')[0]\n",
    "                                                               .astype(float))\n",
    "\n",
    "print(f'No. of NaN release years before merge: {characters[\"release_year\"].isna().sum()}')\n",
    "\n",
    "# Merge the DataFrames\n",
    "characters = pd.merge(characters, \n",
    "                     nominations[['entity', 'year', 'award_cumcount']], \n",
    "                     left_on=['actor_name', 'release_year'],\n",
    "                     right_on=['entity', 'year'], \n",
    "                     how='left')\n",
    "\n",
    "# Forward fill 'award_cumcount' within each 'actor_name' group for following years till \n",
    "# next award\n",
    "characters = characters.sort_values(by=['actor_name', 'movie_release_date'])\n",
    "characters['award_cumcount'] = characters.groupby('actor_name')['award_cumcount'].ffill()\n",
    "\n",
    "# Check numbers for Katharine Hepburn. There are numbers missing (e.g. 5,6,8, ...) in the unique cumcounts as data about her movies from the years she got nominated her 5th, 6th, ... time\n",
    "# are not included in the characters df.\n",
    "print(f'Unique cumcounts: {characters[(characters.actor_name == \"Katharine Hepburn\")][\"award_cumcount\"].unique()}')\n",
    "# Katharine Hepburn received 12 nominations (and won 4 of them).\n",
    "print(f'nominations of Katharine Hepburn: {nominations[nominations[\"entity\"] == \"Katharine Hepburn\"].count()}')\n",
    "\n",
    "# After the above steps, 'award_cumcount' will still have NaNs for characters whose actors \n",
    "# have no award or until the year of the first award. We replace these NaNs with 0.\n",
    "characters['award_cumcount'].fillna(0, inplace=True)\n",
    "\n",
    "# Drop the extra columns\n",
    "characters.drop(columns=['entity', 'release_year', 'year'], inplace=True)\n",
    "\n",
    "display(characters.award_cumcount.describe())\n",
    "characters[characters.award_cumcount == 4].head()"
   ]
  },
  {
   "cell_type": "markdown",
   "metadata": {},
   "source": [
    "Now let's calculate the experience an actor had up to him playing the specific character. We measure that with the number of characters he has already played before the respective character.\n",
    "We consider the case where an actor plays multiple roles in the same movie: In such a case, we make the assumption that one movie and not one role counts as one experience."
   ]
  },
  {
   "cell_type": "code",
   "execution_count": 56,
   "metadata": {},
   "outputs": [
    {
     "name": "stdout",
     "output_type": "stream",
     "text": [
      "Sum of NaNs in movies_cumcount column: 0\n"
     ]
    },
    {
     "data": {
      "text/plain": [
       "count    170812.000000\n",
       "mean          3.834215\n",
       "std           6.816008\n",
       "min           0.000000\n",
       "25%           0.000000\n",
       "50%           1.000000\n",
       "75%           5.000000\n",
       "max         109.000000\n",
       "Name: movies_cumcount, dtype: float64"
      ]
     },
     "metadata": {},
     "output_type": "display_data"
    },
    {
     "data": {
      "text/html": [
       "<div>\n",
       "<style scoped>\n",
       "    .dataframe tbody tr th:only-of-type {\n",
       "        vertical-align: middle;\n",
       "    }\n",
       "\n",
       "    .dataframe tbody tr th {\n",
       "        vertical-align: top;\n",
       "    }\n",
       "\n",
       "    .dataframe thead th {\n",
       "        text-align: right;\n",
       "    }\n",
       "</style>\n",
       "<table border=\"1\" class=\"dataframe\">\n",
       "  <thead>\n",
       "    <tr style=\"text-align: right;\">\n",
       "      <th></th>\n",
       "      <th>wikipedia_movie_id</th>\n",
       "      <th>freebase_movie_id</th>\n",
       "      <th>movie_release_date</th>\n",
       "      <th>character_name</th>\n",
       "      <th>actor_birth</th>\n",
       "      <th>actor_gender</th>\n",
       "      <th>actor_height</th>\n",
       "      <th>actor_etnicity</th>\n",
       "      <th>actor_name</th>\n",
       "      <th>actor_age_at_release</th>\n",
       "      <th>freebase_char_actor_map_id</th>\n",
       "      <th>freebase_character_id</th>\n",
       "      <th>freebase_actor_id</th>\n",
       "      <th>Fame</th>\n",
       "      <th>Liked</th>\n",
       "      <th>Disliked</th>\n",
       "      <th>Neutral</th>\n",
       "      <th>award_cumcount</th>\n",
       "      <th>movies_cumcount</th>\n",
       "    </tr>\n",
       "  </thead>\n",
       "  <tbody>\n",
       "    <tr>\n",
       "      <th>72174</th>\n",
       "      <td>975900</td>\n",
       "      <td>/m/03vyhn</td>\n",
       "      <td>2001-08-24</td>\n",
       "      <td>Sgt Jericho Butler</td>\n",
       "      <td>1967-09-12</td>\n",
       "      <td>M</td>\n",
       "      <td>1.75</td>\n",
       "      <td>NaN</td>\n",
       "      <td>Jason Statham</td>\n",
       "      <td>33.0</td>\n",
       "      <td>/m/02vchl6</td>\n",
       "      <td>/m/0bgchnq</td>\n",
       "      <td>/m/034hyc</td>\n",
       "      <td>78.0</td>\n",
       "      <td>59.0</td>\n",
       "      <td>4.0</td>\n",
       "      <td>14.0</td>\n",
       "      <td>0.0</td>\n",
       "      <td>0.0</td>\n",
       "    </tr>\n",
       "    <tr>\n",
       "      <th>72175</th>\n",
       "      <td>2976107</td>\n",
       "      <td>/m/08h5ny</td>\n",
       "      <td>2003-05-30</td>\n",
       "      <td>Handsome Rob</td>\n",
       "      <td>1967-09-12</td>\n",
       "      <td>M</td>\n",
       "      <td>1.75</td>\n",
       "      <td>NaN</td>\n",
       "      <td>Jason Statham</td>\n",
       "      <td>35.0</td>\n",
       "      <td>/m/02l07sm</td>\n",
       "      <td>/m/0c1nyzc</td>\n",
       "      <td>/m/034hyc</td>\n",
       "      <td>78.0</td>\n",
       "      <td>59.0</td>\n",
       "      <td>4.0</td>\n",
       "      <td>14.0</td>\n",
       "      <td>0.0</td>\n",
       "      <td>1.0</td>\n",
       "    </tr>\n",
       "    <tr>\n",
       "      <th>72176</th>\n",
       "      <td>826409</td>\n",
       "      <td>/m/03f7nt</td>\n",
       "      <td>2004-08-05</td>\n",
       "      <td>Airport Man</td>\n",
       "      <td>1967-09-12</td>\n",
       "      <td>M</td>\n",
       "      <td>1.75</td>\n",
       "      <td>NaN</td>\n",
       "      <td>Jason Statham</td>\n",
       "      <td>36.0</td>\n",
       "      <td>/m/03jps0r</td>\n",
       "      <td>/m/0c1lxk3</td>\n",
       "      <td>/m/034hyc</td>\n",
       "      <td>78.0</td>\n",
       "      <td>59.0</td>\n",
       "      <td>4.0</td>\n",
       "      <td>14.0</td>\n",
       "      <td>0.0</td>\n",
       "      <td>2.0</td>\n",
       "    </tr>\n",
       "    <tr>\n",
       "      <th>72177</th>\n",
       "      <td>2409484</td>\n",
       "      <td>/m/07b2jc</td>\n",
       "      <td>2005-08-03</td>\n",
       "      <td>Frank Martin</td>\n",
       "      <td>1967-09-12</td>\n",
       "      <td>M</td>\n",
       "      <td>1.75</td>\n",
       "      <td>NaN</td>\n",
       "      <td>Jason Statham</td>\n",
       "      <td>37.0</td>\n",
       "      <td>/m/0k79lk</td>\n",
       "      <td>/m/026yqk6</td>\n",
       "      <td>/m/034hyc</td>\n",
       "      <td>78.0</td>\n",
       "      <td>59.0</td>\n",
       "      <td>4.0</td>\n",
       "      <td>14.0</td>\n",
       "      <td>0.0</td>\n",
       "      <td>3.0</td>\n",
       "    </tr>\n",
       "    <tr>\n",
       "      <th>72178</th>\n",
       "      <td>2581392</td>\n",
       "      <td>/m/07phbc</td>\n",
       "      <td>2006-01-19</td>\n",
       "      <td>Yves Gluant</td>\n",
       "      <td>1967-09-12</td>\n",
       "      <td>M</td>\n",
       "      <td>1.75</td>\n",
       "      <td>NaN</td>\n",
       "      <td>Jason Statham</td>\n",
       "      <td>38.0</td>\n",
       "      <td>/m/03jrscm</td>\n",
       "      <td>/m/0gghg36</td>\n",
       "      <td>/m/034hyc</td>\n",
       "      <td>78.0</td>\n",
       "      <td>59.0</td>\n",
       "      <td>4.0</td>\n",
       "      <td>14.0</td>\n",
       "      <td>0.0</td>\n",
       "      <td>4.0</td>\n",
       "    </tr>\n",
       "    <tr>\n",
       "      <th>72179</th>\n",
       "      <td>5795788</td>\n",
       "      <td>/m/0f52ld</td>\n",
       "      <td>2007-08-24</td>\n",
       "      <td>Crawford</td>\n",
       "      <td>1967-09-12</td>\n",
       "      <td>M</td>\n",
       "      <td>1.75</td>\n",
       "      <td>NaN</td>\n",
       "      <td>Jason Statham</td>\n",
       "      <td>39.0</td>\n",
       "      <td>/m/02vbscv</td>\n",
       "      <td>/m/0gxf16_</td>\n",
       "      <td>/m/034hyc</td>\n",
       "      <td>78.0</td>\n",
       "      <td>59.0</td>\n",
       "      <td>4.0</td>\n",
       "      <td>14.0</td>\n",
       "      <td>0.0</td>\n",
       "      <td>5.0</td>\n",
       "    </tr>\n",
       "    <tr>\n",
       "      <th>72180</th>\n",
       "      <td>12160883</td>\n",
       "      <td>/m/02vrt_0</td>\n",
       "      <td>2008-02-19</td>\n",
       "      <td>Terry Leather</td>\n",
       "      <td>1967-09-12</td>\n",
       "      <td>M</td>\n",
       "      <td>1.75</td>\n",
       "      <td>NaN</td>\n",
       "      <td>Jason Statham</td>\n",
       "      <td>40.0</td>\n",
       "      <td>/m/03jqy9j</td>\n",
       "      <td>/m/0b_nq1h</td>\n",
       "      <td>/m/034hyc</td>\n",
       "      <td>78.0</td>\n",
       "      <td>59.0</td>\n",
       "      <td>4.0</td>\n",
       "      <td>14.0</td>\n",
       "      <td>0.0</td>\n",
       "      <td>6.0</td>\n",
       "    </tr>\n",
       "    <tr>\n",
       "      <th>72181</th>\n",
       "      <td>14708304</td>\n",
       "      <td>/m/03gtwh_</td>\n",
       "      <td>2009-04-16</td>\n",
       "      <td>Chev Chelios</td>\n",
       "      <td>1967-09-12</td>\n",
       "      <td>M</td>\n",
       "      <td>1.75</td>\n",
       "      <td>NaN</td>\n",
       "      <td>Jason Statham</td>\n",
       "      <td>41.0</td>\n",
       "      <td>/m/04m74xb</td>\n",
       "      <td>/m/0410ywf</td>\n",
       "      <td>/m/034hyc</td>\n",
       "      <td>78.0</td>\n",
       "      <td>59.0</td>\n",
       "      <td>4.0</td>\n",
       "      <td>14.0</td>\n",
       "      <td>0.0</td>\n",
       "      <td>7.0</td>\n",
       "    </tr>\n",
       "    <tr>\n",
       "      <th>72182</th>\n",
       "      <td>27203385</td>\n",
       "      <td>/m/0bwj49p</td>\n",
       "      <td>2011-01-13</td>\n",
       "      <td>Arthur Bishop</td>\n",
       "      <td>1967-09-12</td>\n",
       "      <td>M</td>\n",
       "      <td>1.75</td>\n",
       "      <td>NaN</td>\n",
       "      <td>Jason Statham</td>\n",
       "      <td>43.0</td>\n",
       "      <td>/m/0cs288l</td>\n",
       "      <td>/m/0g4qhw2</td>\n",
       "      <td>/m/034hyc</td>\n",
       "      <td>78.0</td>\n",
       "      <td>59.0</td>\n",
       "      <td>4.0</td>\n",
       "      <td>14.0</td>\n",
       "      <td>0.0</td>\n",
       "      <td>8.0</td>\n",
       "    </tr>\n",
       "    <tr>\n",
       "      <th>72183</th>\n",
       "      <td>33276254</td>\n",
       "      <td>/m/0gffmn8</td>\n",
       "      <td>2012-08-08</td>\n",
       "      <td>Lee Christmas</td>\n",
       "      <td>1967-09-12</td>\n",
       "      <td>M</td>\n",
       "      <td>1.75</td>\n",
       "      <td>NaN</td>\n",
       "      <td>Jason Statham</td>\n",
       "      <td>44.0</td>\n",
       "      <td>/m/0gwhct9</td>\n",
       "      <td>/m/08ldsbl</td>\n",
       "      <td>/m/034hyc</td>\n",
       "      <td>78.0</td>\n",
       "      <td>59.0</td>\n",
       "      <td>4.0</td>\n",
       "      <td>14.0</td>\n",
       "      <td>0.0</td>\n",
       "      <td>9.0</td>\n",
       "    </tr>\n",
       "  </tbody>\n",
       "</table>\n",
       "</div>"
      ],
      "text/plain": [
       "       wikipedia_movie_id freebase_movie_id movie_release_date  \\\n",
       "72174              975900         /m/03vyhn         2001-08-24   \n",
       "72175             2976107         /m/08h5ny         2003-05-30   \n",
       "72176              826409         /m/03f7nt         2004-08-05   \n",
       "72177             2409484         /m/07b2jc         2005-08-03   \n",
       "72178             2581392         /m/07phbc         2006-01-19   \n",
       "72179             5795788         /m/0f52ld         2007-08-24   \n",
       "72180            12160883        /m/02vrt_0         2008-02-19   \n",
       "72181            14708304        /m/03gtwh_         2009-04-16   \n",
       "72182            27203385        /m/0bwj49p         2011-01-13   \n",
       "72183            33276254        /m/0gffmn8         2012-08-08   \n",
       "\n",
       "           character_name actor_birth actor_gender  actor_height  \\\n",
       "72174  Sgt Jericho Butler  1967-09-12            M          1.75   \n",
       "72175        Handsome Rob  1967-09-12            M          1.75   \n",
       "72176         Airport Man  1967-09-12            M          1.75   \n",
       "72177        Frank Martin  1967-09-12            M          1.75   \n",
       "72178         Yves Gluant  1967-09-12            M          1.75   \n",
       "72179            Crawford  1967-09-12            M          1.75   \n",
       "72180       Terry Leather  1967-09-12            M          1.75   \n",
       "72181        Chev Chelios  1967-09-12            M          1.75   \n",
       "72182       Arthur Bishop  1967-09-12            M          1.75   \n",
       "72183       Lee Christmas  1967-09-12            M          1.75   \n",
       "\n",
       "      actor_etnicity     actor_name  actor_age_at_release  \\\n",
       "72174            NaN  Jason Statham                  33.0   \n",
       "72175            NaN  Jason Statham                  35.0   \n",
       "72176            NaN  Jason Statham                  36.0   \n",
       "72177            NaN  Jason Statham                  37.0   \n",
       "72178            NaN  Jason Statham                  38.0   \n",
       "72179            NaN  Jason Statham                  39.0   \n",
       "72180            NaN  Jason Statham                  40.0   \n",
       "72181            NaN  Jason Statham                  41.0   \n",
       "72182            NaN  Jason Statham                  43.0   \n",
       "72183            NaN  Jason Statham                  44.0   \n",
       "\n",
       "      freebase_char_actor_map_id freebase_character_id freebase_actor_id  \\\n",
       "72174                 /m/02vchl6            /m/0bgchnq         /m/034hyc   \n",
       "72175                 /m/02l07sm            /m/0c1nyzc         /m/034hyc   \n",
       "72176                 /m/03jps0r            /m/0c1lxk3         /m/034hyc   \n",
       "72177                  /m/0k79lk            /m/026yqk6         /m/034hyc   \n",
       "72178                 /m/03jrscm            /m/0gghg36         /m/034hyc   \n",
       "72179                 /m/02vbscv            /m/0gxf16_         /m/034hyc   \n",
       "72180                 /m/03jqy9j            /m/0b_nq1h         /m/034hyc   \n",
       "72181                 /m/04m74xb            /m/0410ywf         /m/034hyc   \n",
       "72182                 /m/0cs288l            /m/0g4qhw2         /m/034hyc   \n",
       "72183                 /m/0gwhct9            /m/08ldsbl         /m/034hyc   \n",
       "\n",
       "       Fame  Liked  Disliked  Neutral  award_cumcount  movies_cumcount  \n",
       "72174  78.0   59.0       4.0     14.0             0.0              0.0  \n",
       "72175  78.0   59.0       4.0     14.0             0.0              1.0  \n",
       "72176  78.0   59.0       4.0     14.0             0.0              2.0  \n",
       "72177  78.0   59.0       4.0     14.0             0.0              3.0  \n",
       "72178  78.0   59.0       4.0     14.0             0.0              4.0  \n",
       "72179  78.0   59.0       4.0     14.0             0.0              5.0  \n",
       "72180  78.0   59.0       4.0     14.0             0.0              6.0  \n",
       "72181  78.0   59.0       4.0     14.0             0.0              7.0  \n",
       "72182  78.0   59.0       4.0     14.0             0.0              8.0  \n",
       "72183  78.0   59.0       4.0     14.0             0.0              9.0  "
      ]
     },
     "metadata": {},
     "output_type": "display_data"
    }
   ],
   "source": [
    "# Add Movie Experience\n",
    "# 1. Clean: Extract Movies from character based df into new df and drop duplicates\n",
    "# 2. Calc cumcount per actor in this seperate df\n",
    "# 3. Left Join seperate df onto original df!\n",
    "# 4. Drop roles of movies we don't look at!\n",
    "\n",
    "# Copy to work on separate df that we can modify and clean.\n",
    "characters_movie_exp = characters.copy()\n",
    "\n",
    "# Drop characters with no unique identifier for an actor\n",
    "characters_movie_exp = characters_movie_exp.dropna(subset=['freebase_actor_id'])\n",
    "\n",
    "assert characters_movie_exp.freebase_actor_id.isna().sum() == 0, \"Some actors don't have an id\"\n",
    "assert characters_movie_exp.freebase_movie_id.isna().sum() == 0, \"Some movies don't have an id\"\n",
    "\n",
    "# Drop actors that played twice in the same movie\n",
    "characters_movie_exp = characters_movie_exp.drop_duplicates(['freebase_movie_id', \n",
    "                                                             'freebase_actor_id'])\n",
    "\n",
    "# Get cumulative movie count per actor (movies done until (excluding) the current movie) \n",
    "# as a measure of prior experience\n",
    "characters_movie_exp = characters_movie_exp.sort_values(by=['freebase_actor_id', \n",
    "                                                            'movie_release_date'])\n",
    "characters_movie_exp['movies_cumcount'] = characters_movie_exp.groupby(\n",
    "                                            ['freebase_actor_id']).cumcount()\n",
    "\n",
    "# Merge the experience data with original characters dataframe\n",
    "characters = pd.merge(characters,\n",
    "                    characters_movie_exp[['freebase_movie_id', 'freebase_actor_id',                           \n",
    "                                          'movies_cumcount']],\n",
    "                    on=['freebase_movie_id', 'freebase_actor_id'],\n",
    "                    how='left' )\n",
    "\n",
    "# Ensure we have data about the same set of movies to ensure comparability of findings\n",
    "characters = characters[characters['freebase_movie_id'].isin(movies.freebase_id)].copy()\n",
    "\n",
    "# As some actors have taken several roles in the same movie, we need to fill those roles (character rows) with the current experience count.\n",
    "characters = characters.sort_values(by=['freebase_actor_id', 'movie_release_date'])\n",
    "characters['movies_cumcount'] = characters.groupby('freebase_actor_id')[\n",
    "                                    'movies_cumcount'].ffill()\n",
    "\n",
    "# Drop characters without a name and freebase id. This effectifely drops all NaN \n",
    "# movies_cumcount's, as these NaN's were the reason.\n",
    "characters = characters.dropna(subset=['freebase_actor_id', 'actor_name'], how='all')\n",
    "print(f'Sum of NaNs in movies_cumcount column: {characters.movies_cumcount.isna().sum()}')\n",
    "\n",
    "display(characters.movies_cumcount.describe())\n",
    "characters.head()\n",
    "display(characters[characters.actor_name == 'Jason Statham'])"
   ]
  },
  {
   "cell_type": "markdown",
   "metadata": {},
   "source": [
    "## Update of actors dataset:"
   ]
  },
  {
   "cell_type": "markdown",
   "metadata": {},
   "source": [
    "Let's only keep those actors that we actually have further data about from the characters df."
   ]
  },
  {
   "cell_type": "code",
   "execution_count": 57,
   "metadata": {},
   "outputs": [
    {
     "name": "stdout",
     "output_type": "stream",
     "text": [
      "New size of the dataset after removing actors not in characters: (70367, 12)\n",
      "Percentage of NaNs in each column: \n",
      "actor_birth          46.001677\n",
      "actor_gender         21.053903\n",
      "actor_height         85.655208\n",
      "actor_etnicity       91.245897\n",
      "actor_name            0.001421\n",
      "freebase_actor_id     0.001421\n",
      "awards                0.000000\n",
      "movies                0.001421\n",
      "Fame                  0.000000\n",
      "Liked                 0.000000\n",
      "Disliked              0.000000\n",
      "Neutral               0.000000\n",
      "dtype: float64\n"
     ]
    }
   ],
   "source": [
    "# Filter out actors in actors_info that are not in the characters dataframe\n",
    "actors_info_test = actors_info[actors_info.actor_name.isin(characters.actor_name)]\n",
    "# Show new size of actors_info dataframe\n",
    "print(\"New size of the dataset after removing actors not in characters: \"\n",
    "      + str(actors_info_test.shape))\n",
    "\n",
    "# Compute percentage of NaNs in each column\n",
    "print(\"Percentage of NaNs in each column: \")\n",
    "print(actors_info_test.isnull().sum()/len(actors_info_test)*100)"
   ]
  },
  {
   "cell_type": "markdown",
   "metadata": {},
   "source": [
    "As we can see, filtering out the actors that don't appear in our movies increases the % of information we have in every category."
   ]
  },
  {
   "cell_type": "markdown",
   "metadata": {},
   "source": [
    "## Update of Movies dataset:\n",
    "We finalize the movies df by completing it through adding character info summarized per movie."
   ]
  },
  {
   "cell_type": "code",
   "execution_count": 58,
   "metadata": {},
   "outputs": [
    {
     "name": "stdout",
     "output_type": "stream",
     "text": [
      "New size of the dataset after merging with characters: (25515, 16)\n"
     ]
    },
    {
     "name": "stderr",
     "output_type": "stream",
     "text": [
      "/var/folders/nb/6_kh75dx3xb3cgzlclgmvcx00000gn/T/ipykernel_8066/4244329410.py:2: FutureWarning: The default value of numeric_only in DataFrameGroupBy.mean is deprecated. In a future version, numeric_only will default to False. Either specify numeric_only or select only columns which should be valid for the function.\n",
      "  values = characters.groupby('freebase_movie_id',as_index=False).mean()\n",
      "/var/folders/nb/6_kh75dx3xb3cgzlclgmvcx00000gn/T/ipykernel_8066/4244329410.py:10: FutureWarning: The default value of numeric_only in DataFrameGroupBy.sum is deprecated. In a future version, numeric_only will default to False. Either specify numeric_only or select only columns which should be valid for the function.\n",
      "  values = characters.groupby('freebase_movie_id',as_index=False).sum()\n"
     ]
    },
    {
     "data": {
      "text/html": [
       "<div>\n",
       "<style scoped>\n",
       "    .dataframe tbody tr th:only-of-type {\n",
       "        vertical-align: middle;\n",
       "    }\n",
       "\n",
       "    .dataframe tbody tr th {\n",
       "        vertical-align: top;\n",
       "    }\n",
       "\n",
       "    .dataframe thead th {\n",
       "        text-align: right;\n",
       "    }\n",
       "</style>\n",
       "<table border=\"1\" class=\"dataframe\">\n",
       "  <thead>\n",
       "    <tr style=\"text-align: right;\">\n",
       "      <th></th>\n",
       "      <th>wikipedia_id</th>\n",
       "      <th>freebase_id</th>\n",
       "      <th>name</th>\n",
       "      <th>release_date</th>\n",
       "      <th>revenue</th>\n",
       "      <th>runtime</th>\n",
       "      <th>languages</th>\n",
       "      <th>countries</th>\n",
       "      <th>genres</th>\n",
       "      <th>year_release</th>\n",
       "      <th>averageRating</th>\n",
       "      <th>numVotes</th>\n",
       "      <th>average_award_cumcount</th>\n",
       "      <th>average_movies_cumcount</th>\n",
       "      <th>award_cumcount</th>\n",
       "      <th>movies_cumcount</th>\n",
       "    </tr>\n",
       "  </thead>\n",
       "  <tbody>\n",
       "    <tr>\n",
       "      <th>0</th>\n",
       "      <td>975900</td>\n",
       "      <td>/m/03vyhn</td>\n",
       "      <td>Ghosts of Mars</td>\n",
       "      <td>2001-08-24</td>\n",
       "      <td>14010832.0</td>\n",
       "      <td>98</td>\n",
       "      <td>{\"/m/02h40lc\": \"English Language\"}</td>\n",
       "      <td>{\"/m/09c7w0\": \"United States of America\"}</td>\n",
       "      <td>{\"/m/01jfsb\": \"Thriller\", \"/m/06n90\": \"Science...</td>\n",
       "      <td>2001</td>\n",
       "      <td>4.9</td>\n",
       "      <td>56894.0</td>\n",
       "      <td>0.0</td>\n",
       "      <td>4.529412</td>\n",
       "      <td>0.0</td>\n",
       "      <td>77.0</td>\n",
       "    </tr>\n",
       "    <tr>\n",
       "      <th>1</th>\n",
       "      <td>28463795</td>\n",
       "      <td>/m/0crgdbh</td>\n",
       "      <td>Brun bitter</td>\n",
       "      <td>1988</td>\n",
       "      <td>NaN</td>\n",
       "      <td>83</td>\n",
       "      <td>{\"/m/05f_3\": \"Norwegian Language\"}</td>\n",
       "      <td>{\"/m/05b4w\": \"Norway\"}</td>\n",
       "      <td>{\"/m/0lsxr\": \"Crime Fiction\", \"/m/07s9rl0\": \"D...</td>\n",
       "      <td>1988</td>\n",
       "      <td>5.6</td>\n",
       "      <td>40.0</td>\n",
       "      <td>0.0</td>\n",
       "      <td>0.500000</td>\n",
       "      <td>0.0</td>\n",
       "      <td>2.0</td>\n",
       "    </tr>\n",
       "    <tr>\n",
       "      <th>2</th>\n",
       "      <td>261236</td>\n",
       "      <td>/m/01mrr1</td>\n",
       "      <td>A Woman in Flames</td>\n",
       "      <td>1983</td>\n",
       "      <td>NaN</td>\n",
       "      <td>106</td>\n",
       "      <td>{\"/m/04306rv\": \"German Language\"}</td>\n",
       "      <td>{\"/m/0345h\": \"Germany\"}</td>\n",
       "      <td>{\"/m/07s9rl0\": \"Drama\"}</td>\n",
       "      <td>1983</td>\n",
       "      <td>5.9</td>\n",
       "      <td>623.0</td>\n",
       "      <td>0.0</td>\n",
       "      <td>1.666667</td>\n",
       "      <td>0.0</td>\n",
       "      <td>5.0</td>\n",
       "    </tr>\n",
       "    <tr>\n",
       "      <th>3</th>\n",
       "      <td>13696889</td>\n",
       "      <td>/m/03cfc81</td>\n",
       "      <td>The Gangsters</td>\n",
       "      <td>1913-05-29</td>\n",
       "      <td>NaN</td>\n",
       "      <td>35</td>\n",
       "      <td>{\"/m/06ppq\": \"Silent film\", \"/m/02h40lc\": \"Eng...</td>\n",
       "      <td>{\"/m/09c7w0\": \"United States of America\"}</td>\n",
       "      <td>{\"/m/02hmvc\": \"Short Film\", \"/m/06ppq\": \"Silen...</td>\n",
       "      <td>1913</td>\n",
       "      <td>6.8</td>\n",
       "      <td>16.0</td>\n",
       "      <td>0.0</td>\n",
       "      <td>0.000000</td>\n",
       "      <td>0.0</td>\n",
       "      <td>0.0</td>\n",
       "    </tr>\n",
       "    <tr>\n",
       "      <th>4</th>\n",
       "      <td>10408933</td>\n",
       "      <td>/m/02qc0j7</td>\n",
       "      <td>Alexander's Ragtime Band</td>\n",
       "      <td>1938-08-16</td>\n",
       "      <td>3600000.0</td>\n",
       "      <td>106</td>\n",
       "      <td>{\"/m/02h40lc\": \"English Language\"}</td>\n",
       "      <td>{\"/m/09c7w0\": \"United States of America\"}</td>\n",
       "      <td>{\"/m/04t36\": \"Musical\", \"/m/01z4y\": \"Comedy\", ...</td>\n",
       "      <td>1938</td>\n",
       "      <td>6.8</td>\n",
       "      <td>2268.0</td>\n",
       "      <td>0.0</td>\n",
       "      <td>3.750000</td>\n",
       "      <td>0.0</td>\n",
       "      <td>15.0</td>\n",
       "    </tr>\n",
       "  </tbody>\n",
       "</table>\n",
       "</div>"
      ],
      "text/plain": [
       "   wikipedia_id freebase_id                      name release_date  \\\n",
       "0        975900   /m/03vyhn            Ghosts of Mars   2001-08-24   \n",
       "1      28463795  /m/0crgdbh               Brun bitter         1988   \n",
       "2        261236   /m/01mrr1         A Woman in Flames         1983   \n",
       "3      13696889  /m/03cfc81             The Gangsters   1913-05-29   \n",
       "4      10408933  /m/02qc0j7  Alexander's Ragtime Band   1938-08-16   \n",
       "\n",
       "      revenue  runtime                                          languages  \\\n",
       "0  14010832.0       98                 {\"/m/02h40lc\": \"English Language\"}   \n",
       "1         NaN       83                 {\"/m/05f_3\": \"Norwegian Language\"}   \n",
       "2         NaN      106                  {\"/m/04306rv\": \"German Language\"}   \n",
       "3         NaN       35  {\"/m/06ppq\": \"Silent film\", \"/m/02h40lc\": \"Eng...   \n",
       "4   3600000.0      106                 {\"/m/02h40lc\": \"English Language\"}   \n",
       "\n",
       "                                   countries  \\\n",
       "0  {\"/m/09c7w0\": \"United States of America\"}   \n",
       "1                     {\"/m/05b4w\": \"Norway\"}   \n",
       "2                    {\"/m/0345h\": \"Germany\"}   \n",
       "3  {\"/m/09c7w0\": \"United States of America\"}   \n",
       "4  {\"/m/09c7w0\": \"United States of America\"}   \n",
       "\n",
       "                                              genres  year_release  \\\n",
       "0  {\"/m/01jfsb\": \"Thriller\", \"/m/06n90\": \"Science...          2001   \n",
       "1  {\"/m/0lsxr\": \"Crime Fiction\", \"/m/07s9rl0\": \"D...          1988   \n",
       "2                            {\"/m/07s9rl0\": \"Drama\"}          1983   \n",
       "3  {\"/m/02hmvc\": \"Short Film\", \"/m/06ppq\": \"Silen...          1913   \n",
       "4  {\"/m/04t36\": \"Musical\", \"/m/01z4y\": \"Comedy\", ...          1938   \n",
       "\n",
       "   averageRating  numVotes  average_award_cumcount  average_movies_cumcount  \\\n",
       "0            4.9   56894.0                     0.0                 4.529412   \n",
       "1            5.6      40.0                     0.0                 0.500000   \n",
       "2            5.9     623.0                     0.0                 1.666667   \n",
       "3            6.8      16.0                     0.0                 0.000000   \n",
       "4            6.8    2268.0                     0.0                 3.750000   \n",
       "\n",
       "   award_cumcount  movies_cumcount  \n",
       "0             0.0             77.0  \n",
       "1             0.0              2.0  \n",
       "2             0.0              5.0  \n",
       "3             0.0              0.0  \n",
       "4             0.0             15.0  "
      ]
     },
     "execution_count": 58,
     "metadata": {},
     "output_type": "execute_result"
    }
   ],
   "source": [
    "# create a dataset of the average award cumcount per movie from the characters dataframe\n",
    "values = characters.groupby('freebase_movie_id',as_index=False).mean()\n",
    "# merge the movies dataframe with the values dataframe\n",
    "movies = movies.merge(values[['freebase_movie_id','award_cumcount','movies_cumcount']], left_on='freebase_id', right_on='freebase_movie_id', how='left')\n",
    "#drop the useless columns\n",
    "movies = movies.drop(columns=['freebase_movie_id'])\n",
    "# rename the columns as average_award_cumcount and average_movies_cumcount\n",
    "movies = movies.rename(columns={'award_cumcount': 'average_award_cumcount','movies_cumcount': 'average_movies_cumcount'})\n",
    "# use values to store the cumulative values of the movies\n",
    "values = characters.groupby('freebase_movie_id',as_index=False).sum()\n",
    "# merge the movies dataframe with the values dataframe\n",
    "movies = movies.merge(values[['freebase_movie_id','award_cumcount','movies_cumcount']], left_on='freebase_id', right_on='freebase_movie_id', how='left')\n",
    "#drop the useless columns\n",
    "movies = movies.drop(columns=['freebase_movie_id'])\n",
    "\n",
    "\n",
    "# show new size of movies dataframe\n",
    "print(\"New size of the dataset after merging with characters: \"+str(movies.shape))\n",
    "movies.head()\n",
    "\n"
   ]
  },
  {
   "cell_type": "markdown",
   "metadata": {},
   "source": [
    "# 4. Financial dataset"
   ]
  },
  {
   "cell_type": "markdown",
   "metadata": {},
   "source": [
    "For our final extension of the analysis where we want to have a closer look onto the relation between a rating and the actual revenue made we need to adjust monetary values (budget and revenue) for inflation. Therefore we compound the inflation rates and use the resulting rate to adjust monetary figures to what they would be in today's terms."
   ]
  },
  {
   "cell_type": "code",
   "execution_count": null,
   "metadata": {},
   "outputs": [
    {
     "name": "stderr",
     "output_type": "stream",
     "text": [
      "/var/folders/nb/6_kh75dx3xb3cgzlclgmvcx00000gn/T/ipykernel_8066/3926729124.py:4: DtypeWarning: Columns (10) have mixed types. Specify dtype option on import or set low_memory=False.\n",
      "  budget_data = pd.read_csv('movies_budget/movies_metadata.csv', sep=',')\n"
     ]
    }
   ],
   "source": [
    "movies = pd.read_csv('movie_summaries_ada/movie.metadata.tsv', sep='\\t', header=None)\n",
    "cpi_data = pd.read_csv(\"cpi_data/API_FP.CPI.TOTL.ZG_DS2_en_csv_v2_5994714.csv\", sep=',', \n",
    "                       skiprows=4)\n",
    "budget_data = pd.read_csv('movies_budget/movies_metadata.csv', sep=',')"
   ]
  },
  {
   "cell_type": "markdown",
   "metadata": {},
   "source": [
    "After having loaded the necessary data into df's, let's prepare those 3 df's for the following calculations."
   ]
  },
  {
   "cell_type": "code",
   "execution_count": 36,
   "metadata": {},
   "outputs": [
    {
     "name": "stdout",
     "output_type": "stream",
     "text": [
      "45466\n",
      "8876\n"
     ]
    },
    {
     "name": "stderr",
     "output_type": "stream",
     "text": [
      "/var/folders/nb/6_kh75dx3xb3cgzlclgmvcx00000gn/T/ipykernel_8066/1164627441.py:4: SettingWithCopyWarning: \n",
      "A value is trying to be set on a copy of a slice from a DataFrame.\n",
      "Try using .loc[row_indexer,col_indexer] = value instead\n",
      "\n",
      "See the caveats in the documentation: https://pandas.pydata.org/pandas-docs/stable/user_guide/indexing.html#returning-a-view-versus-a-copy\n",
      "  budget[\"revenue_budget\"] = budget[\"revenue\"]\n"
     ]
    },
    {
     "data": {
      "text/html": [
       "<div>\n",
       "<style scoped>\n",
       "    .dataframe tbody tr th:only-of-type {\n",
       "        vertical-align: middle;\n",
       "    }\n",
       "\n",
       "    .dataframe tbody tr th {\n",
       "        vertical-align: top;\n",
       "    }\n",
       "\n",
       "    .dataframe thead th {\n",
       "        text-align: right;\n",
       "    }\n",
       "</style>\n",
       "<table border=\"1\" class=\"dataframe\">\n",
       "  <thead>\n",
       "    <tr style=\"text-align: right;\">\n",
       "      <th></th>\n",
       "      <th>original_title</th>\n",
       "      <th>runtime</th>\n",
       "      <th>budget</th>\n",
       "      <th>revenue_budget</th>\n",
       "      <th>year_release</th>\n",
       "    </tr>\n",
       "  </thead>\n",
       "  <tbody>\n",
       "    <tr>\n",
       "      <th>0</th>\n",
       "      <td>Toy Story</td>\n",
       "      <td>81.0</td>\n",
       "      <td>30000000.0</td>\n",
       "      <td>373554033.0</td>\n",
       "      <td>1995</td>\n",
       "    </tr>\n",
       "    <tr>\n",
       "      <th>1</th>\n",
       "      <td>Jumanji</td>\n",
       "      <td>104.0</td>\n",
       "      <td>65000000.0</td>\n",
       "      <td>262797249.0</td>\n",
       "      <td>1995</td>\n",
       "    </tr>\n",
       "    <tr>\n",
       "      <th>3</th>\n",
       "      <td>Waiting to Exhale</td>\n",
       "      <td>127.0</td>\n",
       "      <td>16000000.0</td>\n",
       "      <td>81452156.0</td>\n",
       "      <td>1995</td>\n",
       "    </tr>\n",
       "    <tr>\n",
       "      <th>5</th>\n",
       "      <td>Heat</td>\n",
       "      <td>170.0</td>\n",
       "      <td>60000000.0</td>\n",
       "      <td>187436818.0</td>\n",
       "      <td>1995</td>\n",
       "    </tr>\n",
       "    <tr>\n",
       "      <th>6</th>\n",
       "      <td>Sabrina</td>\n",
       "      <td>127.0</td>\n",
       "      <td>58000000.0</td>\n",
       "      <td>0.0</td>\n",
       "      <td>1995</td>\n",
       "    </tr>\n",
       "  </tbody>\n",
       "</table>\n",
       "</div>"
      ],
      "text/plain": [
       "      original_title  runtime      budget  revenue_budget  year_release\n",
       "0          Toy Story     81.0  30000000.0     373554033.0          1995\n",
       "1            Jumanji    104.0  65000000.0     262797249.0          1995\n",
       "3  Waiting to Exhale    127.0  16000000.0      81452156.0          1995\n",
       "5               Heat    170.0  60000000.0     187436818.0          1995\n",
       "6            Sabrina    127.0  58000000.0             0.0          1995"
      ]
     },
     "execution_count": 36,
     "metadata": {},
     "output_type": "execute_result"
    }
   ],
   "source": [
    "# Get and clean budget data\n",
    "budget = budget_data[[\"original_title\", \"release_date\", \"runtime\", \"budget\", \"revenue\"]]\n",
    "print(len(budget))\n",
    "budget[\"revenue_budget\"] = budget[\"revenue\"]\n",
    "budget = budget.drop(columns=[\"revenue\"])\n",
    "budget[\"budget\"] = pd.to_numeric(budget[\"budget\"], errors='coerce').dropna().astype(int)\n",
    "budget['year_release'] = pd.to_datetime(budget[\"release_date\"], infer_datetime_format=True, \n",
    "                                        errors=\"coerce\").dt.year\n",
    "budget = budget.dropna()\n",
    "budget = budget.drop(columns=[\"release_date\"])\n",
    "budget['year_release'] =  budget['year_release'].astype(int)\n",
    "budget = budget[budget[\"budget\"] != 0]\n",
    "print(len(budget))\n",
    "budget.head()"
   ]
  },
  {
   "cell_type": "code",
   "execution_count": 37,
   "metadata": {},
   "outputs": [
    {
     "name": "stdout",
     "output_type": "stream",
     "text": [
      "81741\n",
      "8242\n"
     ]
    },
    {
     "name": "stderr",
     "output_type": "stream",
     "text": [
      "/var/folders/nb/6_kh75dx3xb3cgzlclgmvcx00000gn/T/ipykernel_8066/2897124263.py:4: SettingWithCopyWarning: \n",
      "A value is trying to be set on a copy of a slice from a DataFrame.\n",
      "Try using .loc[row_indexer,col_indexer] = value instead\n",
      "\n",
      "See the caveats in the documentation: https://pandas.pydata.org/pandas-docs/stable/user_guide/indexing.html#returning-a-view-versus-a-copy\n",
      "  movie_rev[\"revenue_ada\"] = movie_rev[\"revenue\"]\n",
      "/var/folders/nb/6_kh75dx3xb3cgzlclgmvcx00000gn/T/ipykernel_8066/2897124263.py:5: SettingWithCopyWarning: \n",
      "A value is trying to be set on a copy of a slice from a DataFrame.\n",
      "Try using .loc[row_indexer,col_indexer] = value instead\n",
      "\n",
      "See the caveats in the documentation: https://pandas.pydata.org/pandas-docs/stable/user_guide/indexing.html#returning-a-view-versus-a-copy\n",
      "  movie_rev['year_release'] = pd.to_datetime(movie_rev[\"release_date\"], infer_datetime_format=True, errors=\"coerce\").dt.year\n"
     ]
    },
    {
     "data": {
      "text/html": [
       "<div>\n",
       "<style scoped>\n",
       "    .dataframe tbody tr th:only-of-type {\n",
       "        vertical-align: middle;\n",
       "    }\n",
       "\n",
       "    .dataframe tbody tr th {\n",
       "        vertical-align: top;\n",
       "    }\n",
       "\n",
       "    .dataframe thead th {\n",
       "        text-align: right;\n",
       "    }\n",
       "</style>\n",
       "<table border=\"1\" class=\"dataframe\">\n",
       "  <thead>\n",
       "    <tr style=\"text-align: right;\">\n",
       "      <th></th>\n",
       "      <th>name</th>\n",
       "      <th>runtime</th>\n",
       "      <th>revenue_ada</th>\n",
       "      <th>year_release</th>\n",
       "    </tr>\n",
       "  </thead>\n",
       "  <tbody>\n",
       "    <tr>\n",
       "      <th>0</th>\n",
       "      <td>Ghosts of Mars</td>\n",
       "      <td>98.0</td>\n",
       "      <td>14010832.0</td>\n",
       "      <td>2001</td>\n",
       "    </tr>\n",
       "    <tr>\n",
       "      <th>7</th>\n",
       "      <td>Alexander's Ragtime Band</td>\n",
       "      <td>106.0</td>\n",
       "      <td>3600000.0</td>\n",
       "      <td>1938</td>\n",
       "    </tr>\n",
       "    <tr>\n",
       "      <th>13</th>\n",
       "      <td>Henry V</td>\n",
       "      <td>137.0</td>\n",
       "      <td>10161099.0</td>\n",
       "      <td>1989</td>\n",
       "    </tr>\n",
       "    <tr>\n",
       "      <th>17</th>\n",
       "      <td>Mary Poppins</td>\n",
       "      <td>139.0</td>\n",
       "      <td>102272727.0</td>\n",
       "      <td>1964</td>\n",
       "    </tr>\n",
       "    <tr>\n",
       "      <th>21</th>\n",
       "      <td>New Rose Hotel</td>\n",
       "      <td>92.0</td>\n",
       "      <td>21521.0</td>\n",
       "      <td>1999</td>\n",
       "    </tr>\n",
       "  </tbody>\n",
       "</table>\n",
       "</div>"
      ],
      "text/plain": [
       "                        name  runtime  revenue_ada  year_release\n",
       "0             Ghosts of Mars     98.0   14010832.0          2001\n",
       "7   Alexander's Ragtime Band    106.0    3600000.0          1938\n",
       "13                   Henry V    137.0   10161099.0          1989\n",
       "17              Mary Poppins    139.0  102272727.0          1964\n",
       "21            New Rose Hotel     92.0      21521.0          1999"
      ]
     },
     "execution_count": 37,
     "metadata": {},
     "output_type": "execute_result"
    }
   ],
   "source": [
    "# Get and clean movies data\n",
    "movies.columns = ['wikipedia_id', 'freebase_id', 'name', 'release_date', 'revenue', 'runtime', 'languages', 'countries', 'genres']\n",
    "movie_rev = movies[[\"name\", \"release_date\" , \"runtime\", \"revenue\"]]\n",
    "movie_rev[\"revenue_ada\"] = movie_rev[\"revenue\"]\n",
    "movie_rev['year_release'] = pd.to_datetime(movie_rev[\"release_date\"], infer_datetime_format=True, errors=\"coerce\").dt.year\n",
    "movie_rev = movie_rev.drop(columns=[\"revenue\", \"release_date\"])\n",
    "print(len(movie_rev))\n",
    "movie_rev = movie_rev.dropna()\n",
    "movie_rev['year_release'] =  movie_rev['year_release'].astype(int)\n",
    "print(len(movie_rev))\n",
    "movie_rev.head()\n"
   ]
  },
  {
   "cell_type": "code",
   "execution_count": null,
   "metadata": {},
   "outputs": [],
   "source": [
    "money_data = budget.merge(movie_rev, left_on=[\"original_title\", \"year_release\", \"runtime\"], \n",
    "                          right_on=[\"name\", \"year_release\" , \"runtime\"], how='left')\n",
    "# Drop the useless columns\n",
    "money_data = money_data.drop(columns=[\"name\"])\n",
    "print(len(money_data))\n",
    "money_data = money_data[['original_title', 'runtime', 'year_release', 'budget', 'revenue_budget',\n",
    "                         'revenue_ada']]\n",
    "money_data['revenue_budget'] = money_data['revenue_budget'].replace(0.0, pd.NA)\n",
    "\n",
    "# Step 2: Create 'revenue_final' column\n",
    "money_data['revenue_final'] = money_data['revenue_budget'].fillna(money_data['revenue_ada'])\n",
    "money_data = money_data.drop(columns=[\"revenue_budget\", \"revenue_ada\"])\n",
    "\n",
    "# Step 3: Drop rows where 'revenue_final' is NaN or 0\n",
    "money_data = money_data.dropna(subset=['revenue_final' , \"budget\"])\n",
    "print(len(money_data))\n",
    "money_data.head()"
   ]
  },
  {
   "cell_type": "markdown",
   "metadata": {},
   "source": [
    "Now let's finally adjust the respective figures for inflation by using compounded inflation rates."
   ]
  },
  {
   "cell_type": "code",
   "execution_count": null,
   "metadata": {},
   "outputs": [
    {
     "data": {
      "text/html": [
       "<div>\n",
       "<style scoped>\n",
       "    .dataframe tbody tr th:only-of-type {\n",
       "        vertical-align: middle;\n",
       "    }\n",
       "\n",
       "    .dataframe tbody tr th {\n",
       "        vertical-align: top;\n",
       "    }\n",
       "\n",
       "    .dataframe thead th {\n",
       "        text-align: right;\n",
       "    }\n",
       "</style>\n",
       "<table border=\"1\" class=\"dataframe\">\n",
       "  <thead>\n",
       "    <tr style=\"text-align: right;\">\n",
       "      <th></th>\n",
       "      <th>original_title</th>\n",
       "      <th>runtime</th>\n",
       "      <th>year_release</th>\n",
       "      <th>budget</th>\n",
       "      <th>revenue_final</th>\n",
       "      <th>CumulativeInflation</th>\n",
       "      <th>budget_adjusted</th>\n",
       "      <th>revenue_final_adjusted</th>\n",
       "    </tr>\n",
       "  </thead>\n",
       "  <tbody>\n",
       "    <tr>\n",
       "      <th>0</th>\n",
       "      <td>Toy Story</td>\n",
       "      <td>81.0</td>\n",
       "      <td>1995</td>\n",
       "      <td>30000000.0</td>\n",
       "      <td>373554033.0</td>\n",
       "      <td>0.974396</td>\n",
       "      <td>59231894</td>\n",
       "      <td>737543763</td>\n",
       "    </tr>\n",
       "    <tr>\n",
       "      <th>1</th>\n",
       "      <td>Jumanji</td>\n",
       "      <td>104.0</td>\n",
       "      <td>1995</td>\n",
       "      <td>65000000.0</td>\n",
       "      <td>262797249.0</td>\n",
       "      <td>0.974396</td>\n",
       "      <td>128335770</td>\n",
       "      <td>518865960</td>\n",
       "    </tr>\n",
       "    <tr>\n",
       "      <th>2</th>\n",
       "      <td>Waiting to Exhale</td>\n",
       "      <td>127.0</td>\n",
       "      <td>1995</td>\n",
       "      <td>16000000.0</td>\n",
       "      <td>81452156.0</td>\n",
       "      <td>0.974396</td>\n",
       "      <td>31590343</td>\n",
       "      <td>160818849</td>\n",
       "    </tr>\n",
       "    <tr>\n",
       "      <th>3</th>\n",
       "      <td>Heat</td>\n",
       "      <td>170.0</td>\n",
       "      <td>1995</td>\n",
       "      <td>60000000.0</td>\n",
       "      <td>187436818.0</td>\n",
       "      <td>0.974396</td>\n",
       "      <td>118463788</td>\n",
       "      <td>370074591</td>\n",
       "    </tr>\n",
       "    <tr>\n",
       "      <th>4</th>\n",
       "      <td>Sabrina</td>\n",
       "      <td>127.0</td>\n",
       "      <td>1995</td>\n",
       "      <td>58000000.0</td>\n",
       "      <td>53458319.0</td>\n",
       "      <td>0.974396</td>\n",
       "      <td>114514995</td>\n",
       "      <td>105547916</td>\n",
       "    </tr>\n",
       "  </tbody>\n",
       "</table>\n",
       "</div>"
      ],
      "text/plain": [
       "      original_title  runtime  year_release      budget  revenue_final  \\\n",
       "0          Toy Story     81.0          1995  30000000.0    373554033.0   \n",
       "1            Jumanji    104.0          1995  65000000.0    262797249.0   \n",
       "2  Waiting to Exhale    127.0          1995  16000000.0     81452156.0   \n",
       "3               Heat    170.0          1995  60000000.0    187436818.0   \n",
       "4            Sabrina    127.0          1995  58000000.0     53458319.0   \n",
       "\n",
       "   CumulativeInflation  budget_adjusted  revenue_final_adjusted  \n",
       "0             0.974396         59231894               737543763  \n",
       "1             0.974396        128335770               518865960  \n",
       "2             0.974396         31590343               160818849  \n",
       "3             0.974396        118463788               370074591  \n",
       "4             0.974396        114514995               105547916  "
      ]
     },
     "execution_count": 31,
     "metadata": {},
     "output_type": "execute_result"
    }
   ],
   "source": [
    "# Get CPI data\n",
    "cpi_df = cpi_data[cpi_data[\"Country Code\"] == \"USA\"]\n",
    "cpi_df = cpi_df.drop(columns=[\"Country Name\",\t\"Country Code\",\t\"Indicator Name\", \n",
    "                              \"Indicator Code\", 'Unnamed: 67'])\n",
    "\n",
    "# Step 1: Transform CPI Data\n",
    "years = [str(year) for year in range(1960, 2023)]  # Adjust range as needed\n",
    "cpi_long_format = cpi_df.melt(var_name='Year', value_name='InflationRate', value_vars=years)\n",
    "cpi_long_format['Year'] = cpi_long_format['Year'].astype(int)\n",
    "\n",
    "# Step 2: Calculate Cumulative Inflation Factors\n",
    "def calculate_cumulative_inflation(start_year, cpi_data):\n",
    "    # Sort data to ensure chronological order\n",
    "    sorted_cpi = cpi_data.sort_values(by='Year')\n",
    "    inflation_rates = sorted_cpi[sorted_cpi['Year'] >= start_year]['InflationRate'] / 100\n",
    "    cumulative_inflation = (1 + inflation_rates).cumprod().iloc[-1] - 1\n",
    "    return cumulative_inflation\n",
    "\n",
    "money_data['CumulativeInflation'] = money_data['year_release'].apply(lambda x: \n",
    "                                    calculate_cumulative_inflation(x, cpi_long_format))\n",
    "\n",
    "# Step 3: Adjust Budget and Revenue Values\n",
    "money_data['budget_adjusted'] = money_data.apply(lambda row: row['budget'] * \n",
    "                                                 (1 + row['CumulativeInflation']), axis=1)\n",
    "money_data['revenue_final_adjusted'] = money_data.apply(lambda row: row['revenue_final'] * \n",
    "                                                        (1 + row['CumulativeInflation']), axis=1)\n",
    "\n",
    "money_data['budget_adjusted'] =  money_data['budget_adjusted'].astype(int)\n",
    "money_data['revenue_final_adjusted'] =  money_data['revenue_final_adjusted'].astype(int)\n",
    "money_data.head()"
   ]
  },
  {
   "cell_type": "markdown",
   "metadata": {},
   "source": [
    "Here we still sort the data by date and make it available in the clean_financial_df df."
   ]
  },
  {
   "cell_type": "code",
   "execution_count": null,
   "metadata": {},
   "outputs": [
    {
     "name": "stdout",
     "output_type": "stream",
     "text": [
      "5567\n"
     ]
    },
    {
     "data": {
      "text/html": [
       "<div>\n",
       "<style scoped>\n",
       "    .dataframe tbody tr th:only-of-type {\n",
       "        vertical-align: middle;\n",
       "    }\n",
       "\n",
       "    .dataframe tbody tr th {\n",
       "        vertical-align: top;\n",
       "    }\n",
       "\n",
       "    .dataframe thead th {\n",
       "        text-align: right;\n",
       "    }\n",
       "</style>\n",
       "<table border=\"1\" class=\"dataframe\">\n",
       "  <thead>\n",
       "    <tr style=\"text-align: right;\">\n",
       "      <th></th>\n",
       "      <th>original_title</th>\n",
       "      <th>runtime</th>\n",
       "      <th>year_release</th>\n",
       "      <th>budget</th>\n",
       "      <th>revenue_final</th>\n",
       "      <th>CumulativeInflation</th>\n",
       "      <th>budget_adjusted</th>\n",
       "      <th>revenue_final_adjusted</th>\n",
       "    </tr>\n",
       "  </thead>\n",
       "  <tbody>\n",
       "    <tr>\n",
       "      <th>0</th>\n",
       "      <td>The Cheat</td>\n",
       "      <td>59.0</td>\n",
       "      <td>1915</td>\n",
       "      <td>17311.0</td>\n",
       "      <td>137365.0</td>\n",
       "      <td>9.03962</td>\n",
       "      <td>173795</td>\n",
       "      <td>1379092</td>\n",
       "    </tr>\n",
       "    <tr>\n",
       "      <th>1</th>\n",
       "      <td>The Birth of a Nation</td>\n",
       "      <td>193.0</td>\n",
       "      <td>1915</td>\n",
       "      <td>100000.0</td>\n",
       "      <td>11000000.0</td>\n",
       "      <td>9.03962</td>\n",
       "      <td>1003961</td>\n",
       "      <td>110435817</td>\n",
       "    </tr>\n",
       "    <tr>\n",
       "      <th>2</th>\n",
       "      <td>20,000 Leagues Under the Sea</td>\n",
       "      <td>105.0</td>\n",
       "      <td>1916</td>\n",
       "      <td>200000.0</td>\n",
       "      <td>8000000.0</td>\n",
       "      <td>9.03962</td>\n",
       "      <td>2007923</td>\n",
       "      <td>80316958</td>\n",
       "    </tr>\n",
       "    <tr>\n",
       "      <th>3</th>\n",
       "      <td>Mickey</td>\n",
       "      <td>93.0</td>\n",
       "      <td>1918</td>\n",
       "      <td>250000.0</td>\n",
       "      <td>8000000.0</td>\n",
       "      <td>9.03962</td>\n",
       "      <td>2509904</td>\n",
       "      <td>80316958</td>\n",
       "    </tr>\n",
       "    <tr>\n",
       "      <th>4</th>\n",
       "      <td>The Kid</td>\n",
       "      <td>68.0</td>\n",
       "      <td>1921</td>\n",
       "      <td>250000.0</td>\n",
       "      <td>2500000.0</td>\n",
       "      <td>9.03962</td>\n",
       "      <td>2509904</td>\n",
       "      <td>25099049</td>\n",
       "    </tr>\n",
       "  </tbody>\n",
       "</table>\n",
       "</div>"
      ],
      "text/plain": [
       "                 original_title  runtime  year_release    budget  \\\n",
       "0                     The Cheat     59.0          1915   17311.0   \n",
       "1         The Birth of a Nation    193.0          1915  100000.0   \n",
       "2  20,000 Leagues Under the Sea    105.0          1916  200000.0   \n",
       "3                        Mickey     93.0          1918  250000.0   \n",
       "4                       The Kid     68.0          1921  250000.0   \n",
       "\n",
       "   revenue_final  CumulativeInflation  budget_adjusted  revenue_final_adjusted  \n",
       "0       137365.0              9.03962           173795                 1379092  \n",
       "1     11000000.0              9.03962          1003961               110435817  \n",
       "2      8000000.0              9.03962          2007923                80316958  \n",
       "3      8000000.0              9.03962          2509904                80316958  \n",
       "4      2500000.0              9.03962          2509904                25099049  "
      ]
     },
     "execution_count": 32,
     "metadata": {},
     "output_type": "execute_result"
    }
   ],
   "source": [
    "money_data = money_data.sort_values(by='year_release').reset_index(drop=True)\n",
    "print(len(money_data))\n",
    "money_data.head()"
   ]
  },
  {
   "cell_type": "code",
   "execution_count": null,
   "metadata": {},
   "outputs": [
    {
     "data": {
      "text/html": [
       "<div>\n",
       "<style scoped>\n",
       "    .dataframe tbody tr th:only-of-type {\n",
       "        vertical-align: middle;\n",
       "    }\n",
       "\n",
       "    .dataframe tbody tr th {\n",
       "        vertical-align: top;\n",
       "    }\n",
       "\n",
       "    .dataframe thead th {\n",
       "        text-align: right;\n",
       "    }\n",
       "</style>\n",
       "<table border=\"1\" class=\"dataframe\">\n",
       "  <thead>\n",
       "    <tr style=\"text-align: right;\">\n",
       "      <th></th>\n",
       "      <th>original_title</th>\n",
       "      <th>runtime</th>\n",
       "      <th>year_release</th>\n",
       "      <th>budget_adjusted</th>\n",
       "      <th>revenue_final_adjusted</th>\n",
       "    </tr>\n",
       "  </thead>\n",
       "  <tbody>\n",
       "    <tr>\n",
       "      <th>0</th>\n",
       "      <td>The Cheat</td>\n",
       "      <td>59.0</td>\n",
       "      <td>1915</td>\n",
       "      <td>173795</td>\n",
       "      <td>1379092</td>\n",
       "    </tr>\n",
       "    <tr>\n",
       "      <th>1</th>\n",
       "      <td>The Birth of a Nation</td>\n",
       "      <td>193.0</td>\n",
       "      <td>1915</td>\n",
       "      <td>1003961</td>\n",
       "      <td>110435817</td>\n",
       "    </tr>\n",
       "    <tr>\n",
       "      <th>2</th>\n",
       "      <td>20,000 Leagues Under the Sea</td>\n",
       "      <td>105.0</td>\n",
       "      <td>1916</td>\n",
       "      <td>2007923</td>\n",
       "      <td>80316958</td>\n",
       "    </tr>\n",
       "    <tr>\n",
       "      <th>3</th>\n",
       "      <td>Mickey</td>\n",
       "      <td>93.0</td>\n",
       "      <td>1918</td>\n",
       "      <td>2509904</td>\n",
       "      <td>80316958</td>\n",
       "    </tr>\n",
       "    <tr>\n",
       "      <th>4</th>\n",
       "      <td>The Kid</td>\n",
       "      <td>68.0</td>\n",
       "      <td>1921</td>\n",
       "      <td>2509904</td>\n",
       "      <td>25099049</td>\n",
       "    </tr>\n",
       "  </tbody>\n",
       "</table>\n",
       "</div>"
      ],
      "text/plain": [
       "                 original_title  runtime  year_release  budget_adjusted  \\\n",
       "0                     The Cheat     59.0          1915           173795   \n",
       "1         The Birth of a Nation    193.0          1915          1003961   \n",
       "2  20,000 Leagues Under the Sea    105.0          1916          2007923   \n",
       "3                        Mickey     93.0          1918          2509904   \n",
       "4                       The Kid     68.0          1921          2509904   \n",
       "\n",
       "   revenue_final_adjusted  \n",
       "0                 1379092  \n",
       "1               110435817  \n",
       "2                80316958  \n",
       "3                80316958  \n",
       "4                25099049  "
      ]
     },
     "execution_count": 33,
     "metadata": {},
     "output_type": "execute_result"
    }
   ],
   "source": [
    "clean_financial_df = money_data[[\"original_title\",\t\"runtime\",\t\"year_release\",\t\n",
    "                                 \"budget_adjusted\",\t\"revenue_final_adjusted\"]]\n",
    "clean_financial_df.head()"
   ]
  },
  {
   "attachments": {},
   "cell_type": "markdown",
   "metadata": {},
   "source": [
    "After adapting the budget and revenues to today's currency value, we obtain a dataset of 5567 movies with this data. This dataset would only be used for our last question."
   ]
  },
  {
   "cell_type": "markdown",
   "metadata": {},
   "source": [
    "# Visualization of distributions:\n",
    "\n",
    "After having prepared all necessary df, we'll visualise the distribution of the cleaned data, where there is one clear outlier in every category to handle."
   ]
  },
  {
   "cell_type": "code",
   "execution_count": 59,
   "metadata": {},
   "outputs": [],
   "source": [
    "import numpy as np\n",
    "import matplotlib.pyplot as plt"
   ]
  },
  {
   "cell_type": "code",
   "execution_count": 60,
   "metadata": {},
   "outputs": [
    {
     "data": {
      "image/png": "[encoded data removed]",
      "text/plain": [
       "<Figure size 640x480 with 1 Axes>"
      ]
     },
     "metadata": {},
     "output_type": "display_data"
    }
   ],
   "source": [
    "# plot the distribution of average_award_cumcount\n",
    "movies['average_award_cumcount'].plot(kind='hist', bins=100,logy=True)\n",
    "# add titles and labels in axis\n",
    "plt.title('Distribution of average award count of the cast')\n",
    "plt.xlabel('Average award count')\n",
    "plt.ylabel('Number of movies')\n",
    "plt.show()"
   ]
  },
  {
   "cell_type": "code",
   "execution_count": 61,
   "metadata": {},
   "outputs": [
    {
     "data": {
      "text/plain": [
       "Text(0, 0.5, 'Number of movies')"
      ]
     },
     "execution_count": 61,
     "metadata": {},
     "output_type": "execute_result"
    },
    {
     "data": {
      "image/png": "[encoded data removed]",
      "text/plain": [
       "<Figure size 640x480 with 1 Axes>"
      ]
     },
     "metadata": {},
     "output_type": "display_data"
    }
   ],
   "source": [
    "# plot distribution of award_cumcount\n",
    "movies['award_cumcount'].plot(kind='hist',bins=np.arange(0,50,1),logy=True)\n",
    "# add titles and labels in axis\n",
    "plt.title('Distribution of award count of the cast')\n",
    "plt.xlabel('Award count')\n",
    "plt.ylabel('Number of movies')"
   ]
  },
  {
   "cell_type": "code",
   "execution_count": 62,
   "metadata": {},
   "outputs": [
    {
     "data": {
      "text/plain": [
       "Text(0, 0.5, 'Number of movies')"
      ]
     },
     "execution_count": 62,
     "metadata": {},
     "output_type": "execute_result"
    },
    {
     "data": {
      "image/png": "[encoded data removed]",
      "text/plain": [
       "<Figure size 640x480 with 1 Axes>"
      ]
     },
     "metadata": {},
     "output_type": "display_data"
    }
   ],
   "source": [
    "#plot distribution of average_movies_cumcount\n",
    "movies['average_movies_cumcount'].plot(kind='hist',bins=np.arange(0,105,1),logy=True)\n",
    "# add titles and labels in axis\n",
    "plt.title('Distribution of average movie count of the cast')\n",
    "plt.xlabel('Average movie count')\n",
    "plt.ylabel('Number of movies')"
   ]
  },
  {
   "cell_type": "code",
   "execution_count": 63,
   "metadata": {},
   "outputs": [
    {
     "data": {
      "text/plain": [
       "Text(0, 0.5, 'Number of movies')"
      ]
     },
     "execution_count": 63,
     "metadata": {},
     "output_type": "execute_result"
    },
    {
     "data": {
      "image/png": "[encoded data removed]",
      "text/plain": [
       "<Figure size 640x480 with 1 Axes>"
      ]
     },
     "metadata": {},
     "output_type": "display_data"
    }
   ],
   "source": [
    "#plot distribution of movies_cumcount\n",
    "movies['movies_cumcount'].plot(kind='hist',bins=200,logy=True)\n",
    "# add titles and labels in axis\n",
    "plt.title('Distribution of movie count of the cast')\n",
    "plt.xlabel('Movie count')\n",
    "plt.ylabel('Number of movies')\n"
   ]
  },
  {
   "cell_type": "code",
   "execution_count": 64,
   "metadata": {},
   "outputs": [
    {
     "data": {
      "text/plain": [
       "Text(0, 0.5, 'Number of movies')"
      ]
     },
     "execution_count": 64,
     "metadata": {},
     "output_type": "execute_result"
    },
    {
     "data": {
      "image/png": "[encoded data removed]",
      "text/plain": [
       "<Figure size 640x480 with 1 Axes>"
      ]
     },
     "metadata": {},
     "output_type": "display_data"
    }
   ],
   "source": [
    "# plot the distribution of rating\n",
    "movies['averageRating'].plot(kind='hist', bins=np.arange(1,10,0.1),logy=True)\n",
    "# add titles and labels in axis\n",
    "plt.title('Distribution of rating')\n",
    "plt.xlabel('Rating')\n",
    "plt.ylabel('Number of movies')"
   ]
  },
  {
   "cell_type": "code",
   "execution_count": 65,
   "metadata": {},
   "outputs": [
    {
     "data": {
      "text/plain": [
       "Text(0, 0.5, 'Number of movies')"
      ]
     },
     "execution_count": 65,
     "metadata": {},
     "output_type": "execute_result"
    },
    {
     "data": {
      "image/png": "[encoded data removed]",
      "text/plain": [
       "<Figure size 640x480 with 1 Axes>"
      ]
     },
     "metadata": {},
     "output_type": "display_data"
    }
   ],
   "source": [
    "#plot distribution of revenue\n",
    "movies['revenue'].plot(kind='hist',bins=np.arange(0,2.3e9,1e7),logy=True)\n",
    "# add titles and labels in axis\n",
    "plt.title('Distribution of revenue')\n",
    "plt.xlabel('Revenue')\n",
    "plt.ylabel('Number of movies')"
   ]
  },
  {
   "cell_type": "code",
   "execution_count": 66,
   "metadata": {},
   "outputs": [
    {
     "data": {
      "text/plain": [
       "Text(0, 0.5, 'Appearances in roles')"
      ]
     },
     "execution_count": 66,
     "metadata": {},
     "output_type": "execute_result"
    },
    {
     "data": {
      "image/png": "[encoded data removed]",
      "text/plain": [
       "<Figure size 640x480 with 1 Axes>"
      ]
     },
     "metadata": {},
     "output_type": "display_data"
    }
   ],
   "source": [
    "#plot distribution of gender in roles (characters dataframe) in percentage\n",
    "characters['actor_gender'].value_counts().plot(kind='bar')\n",
    "# add titles and labels in axis\n",
    "plt.title('Distribution of gender in roles')\n",
    "plt.xlabel('Gender')\n",
    "plt.ylabel('Appearances in roles')"
   ]
  },
  {
   "cell_type": "code",
   "execution_count": 67,
   "metadata": {},
   "outputs": [],
   "source": [
    "#load etnicity file\n",
    "etnicity = pd.read_csv('ethnicity_dict.csv')\n",
    "# replace the etnicty values in the characters dataframe by the values in the etnicity dataframe\n",
    "characters = characters.merge(etnicity,right_on='Freebase ID',left_on='actor_etnicity',how='left')\n"
   ]
  },
  {
   "cell_type": "code",
   "execution_count": 68,
   "metadata": {},
   "outputs": [
    {
     "data": {
      "text/plain": [
       "Text(0, 0.5, 'Appearances in roles')"
      ]
     },
     "execution_count": 68,
     "metadata": {},
     "output_type": "execute_result"
    },
    {
     "data": {
      "image/png": "[encoded data removed]",
      "text/plain": [
       "<Figure size 640x480 with 1 Axes>"
      ]
     },
     "metadata": {},
     "output_type": "display_data"
    }
   ],
   "source": [
    "# plot distribution of ethnicity in roles (characters dataframe) in percentage\n",
    "characters['Ethnicity Label'].value_counts()[:25].plot(kind='bar')\n",
    "# add titles and labels in axis\n",
    "plt.title('Distribution of ethnicity in roles (only top 25)')\n",
    "plt.xlabel('Ethnicity')\n",
    "plt.ylabel('Appearances in roles')"
   ]
  },
  {
   "cell_type": "markdown",
   "metadata": {},
   "source": [
    "We restrict ourselves to the top 25 for readability"
   ]
  },
  {
   "cell_type": "code",
   "execution_count": 69,
   "metadata": {},
   "outputs": [
    {
     "data": {
      "text/plain": [
       "Text(0, 0.5, 'Number of actors')"
      ]
     },
     "execution_count": 69,
     "metadata": {},
     "output_type": "execute_result"
    },
    {
     "data": {
      "image/png": "[encoded data removed]",
      "text/plain": [
       "<Figure size 640x480 with 1 Axes>"
      ]
     },
     "metadata": {},
     "output_type": "display_data"
    }
   ],
   "source": [
    "#plot the distribution of Fame\n",
    "actors_list['Fame'].plot(kind='hist',bins=np.arange(0,100,1),logy=True)\n",
    "# add titles and labels in axis\n",
    "plt.title('Distribution of popularity of actors')\n",
    "plt.xlabel('Popularity (% of the US population that knows the actor)')\n",
    "plt.ylabel('Number of actors')"
   ]
  },
  {
   "cell_type": "markdown",
   "metadata": {},
   "source": [
    "Most of the actors are not considered famous."
   ]
  }
 ],
 "metadata": {
  "kernelspec": {
   "display_name": "ada",
   "language": "python",
   "name": "python3"
  },
  "language_info": {
   "codemirror_mode": {
    "name": "ipython",
    "version": 3
   },
   "file_extension": ".py",
   "mimetype": "text/x-python",
   "name": "python",
   "nbconvert_exporter": "python",
   "pygments_lexer": "ipython3",
   "version": "3.9.18"
  }
 },
 "nbformat": 4,
 "nbformat_minor": 2
}
