{
 "cells": [
  {
   "cell_type": "code",
   "execution_count": 1,
   "metadata": {},
   "outputs": [],
   "source": [
    "#TODO manage the outliers"
   ]
  },
  {
   "cell_type": "code",
   "execution_count": 54,
   "metadata": {},
   "outputs": [],
   "source": [
    "import pandas as pd\n",
    "import math\n",
    "\n",
    "#open the csv file of actors\n",
    "actors = pd.read_csv('actors.csv')\n",
    "\n",
    "#open the csv file of awards\n",
    "awards = pd.read_csv('data_csv_awards.csv')\n",
    "\n",
    "#open the movie tsv file\n",
    "movies = pd.read_csv('movie_summaries_ada/movie.metadata.tsv', sep='\\t', header=None)\n",
    "#define the columns\n",
    "movies.columns = ['wikipedia_id', 'freebase_id', 'name', 'release_date', 'revenue', 'runtime', 'languages', 'countries', 'genres']\n",
    "\n",
    "#open the character.metadata.tsv file\n",
    "characters = pd.read_csv('movie_summaries_ada/character.metadata.tsv', sep='\\t', header=None)\n",
    "#define the columns of the character file\n",
    "characters.columns = ['wikipedia_movie_id','freebase_movie_id','movie_release_date','character_name','actor_birth',\n",
    "                      'actor_gender','actor_height','actor_etnicity','actor_name','actor_age_at_release','freebase_char_actor_map_id','freebase_character_id','freebase_actor_id']"
   ]
  },
  {
   "cell_type": "markdown",
   "metadata": {},
   "source": [
    "# Movies Dataset:"
   ]
  },
  {
   "cell_type": "code",
   "execution_count": 55,
   "metadata": {},
   "outputs": [
    {
     "name": "stdout",
     "output_type": "stream",
     "text": [
      "Original size: 81741\n",
      "Number of unique names: 75478\n",
      "Number of unique wiki ids: 81741\n",
      "Number of unique tuples: 81699\n",
      "Number of duplicates: 42\n",
      "New size without duplicates: 81699\n"
     ]
    }
   ],
   "source": [
    "# there are 81741 rows\n",
    "print(\"Original size: \"+str(len(movies['wikipedia_id'])))\n",
    "# check for duplicate wikipedia_id or name, every line is indeed unique but there are duplicates in the name column\n",
    "print(\"Number of unique names: \"+str(len(movies['name'].unique())))\n",
    "print(\"Number of unique wiki ids: \"+str(len(movies['wikipedia_id'].unique())))\n",
    "# show an example of duplicated name, differ in the release date,and runtime\n",
    "#print(movies[movies['name'] == 'The Bridge'])\n",
    "# key identifier is the (name, release_date, runtime) tuple\n",
    "# check for duplicates in the tuple\n",
    "print(\"Number of unique tuples: \"+str(len(movies.groupby(['name','release_date','runtime']))))\n",
    "#show an example of duplicated tuple\n",
    "#print(movies.groupby(['name','release_date','runtime']).size().sort_values(ascending=False).head(7))\n",
    "#effective size is 81699 rows from now on\n",
    "#record the duplicates names in a list\n",
    "duplicates = movies[movies.duplicated(['name','release_date','runtime'])]\n",
    "print(\"Number of duplicates: \"+str(len(duplicates)))\n",
    "#remove the duplicates keeping the row with the highest revenue\n",
    "movies = movies.sort_values('revenue', ascending=False).drop_duplicates(['name','release_date','runtime']).sort_index()\n",
    "print(\"New size without duplicates: \"+str(len(movies['wikipedia_id'])))\n",
    "# need to transform the release_date column to year because of IMBd dataset\n",
    "movies['year_release'] = pd.to_datetime(movies[\"release_date\"], infer_datetime_format=True, errors=\"coerce\").dt.year\n"
   ]
  },
  {
   "cell_type": "code",
   "execution_count": 56,
   "metadata": {},
   "outputs": [
    {
     "name": "stdout",
     "output_type": "stream",
     "text": [
      "Percentage of NaNs in each column: \n",
      "wikipedia_id     0.000000\n",
      "freebase_id      0.000000\n",
      "name             0.000000\n",
      "release_date     8.407692\n",
      "revenue         89.717132\n",
      "runtime         24.986842\n",
      "languages        0.000000\n",
      "countries        0.000000\n",
      "genres           0.000000\n",
      "year_release     8.408916\n",
      "dtype: float64\n",
      "Statistics for revenue: \n",
      "count    8.401000e+03\n",
      "mean     4.799363e+07\n",
      "std      1.121753e+08\n",
      "min      1.000000e+04\n",
      "25%      2.083193e+06\n",
      "50%      1.063969e+07\n",
      "75%      4.071696e+07\n",
      "max      2.782275e+09\n",
      "Name: revenue, dtype: float64\n",
      "Distribution of genres: \n",
      "{\"/m/07s9rl0\": \"Drama\"}                                                                                                                                                                     6848\n",
      "{}                                                                                                                                                                                          2288\n",
      "{\"/m/01z4y\": \"Comedy\"}                                                                                                                                                                      2038\n",
      "{\"/m/0jtdp\": \"Documentary\"}                                                                                                                                                                 2000\n",
      "{\"/m/05p553\": \"Comedy film\"}                                                                                                                                                                1384\n",
      "                                                                                                                                                                                            ... \n",
      "{\"/m/0hj3n07\": \"Culture & Society\", \"/m/017fp\": \"Biography\", \"/m/0hj3n4b\": \"Gender Issues\", \"/m/03mqtr\": \"Political drama\", \"/m/075fzd\": \"Social issues\", \"/m/0jtdp\": \"Documentary\"}           1\n",
      "{\"/m/0g092b\": \"Monster movie\", \"/m/06n90\": \"Science Fiction\", \"/m/03npn\": \"Horror\", \"/m/0cq22z7\": \"Sci-Fi Horror\", \"/m/0h9qh\": \"Monster\"}                                                      1\n",
      "{\"/m/0hn10\": \"LGBT\", \"/m/04rlf\": \"Music\", \"/m/02l7c8\": \"Romance Film\", \"/m/07s9rl0\": \"Drama\", \"/m/03q4nz\": \"World cinema\"}                                                                     1\n",
      "{\"/m/06ppq\": \"Silent film\", \"/m/07s9rl0\": \"Drama\", \"/m/03bxz7\": \"Biographical film\", \"/m/0219x_\": \"Indie\"}                                                                                     1\n",
      "{\"/m/06n90\": \"Science Fiction\", \"/m/0gw5n2f\": \"Japanese Movies\", \"/m/03k9fj\": \"Adventure\", \"/m/0hcr\": \"Animation\", \"/m/02hmvc\": \"Short Film\", \"/m/0jxy\": \"Anime\", \"/m/07s9rl0\": \"Drama\"}       1\n",
      "Name: genres, Length: 23814, dtype: int64\n"
     ]
    },
    {
     "data": {
      "image/png": "[encoded data removed]",
      "text/plain": [
       "<Figure size 640x480 with 1 Axes>"
      ]
     },
     "metadata": {},
     "output_type": "display_data"
    }
   ],
   "source": [
    "# check for outliers, percentage of NaNs in each column and distributions (min, max, mean, std)\n",
    "# compute percentage of NaNs in each column # Lots of NaN in revenue to be very careful\n",
    "print(\"Percentage of NaNs in each column: \")\n",
    "print(movies.isnull().sum()/len(movies)*100)\n",
    "# compute statistics for revenue\n",
    "print(\"Statistics for revenue: \")\n",
    "print(movies['revenue'].describe())\n",
    "#plot the distribution of revenue with point cloud\n",
    "movies['revenue'].plot(kind='box')\n",
    "\n",
    "# compute the distribution of genres\n",
    "print(\"Distribution of genres: \")\n",
    "print(movies['genres'].value_counts())\n",
    "# There is a lot of subcategories, probably need to group them. 2k NaNs and 6k Drama (3 times as much as next one)"
   ]
  },
  {
   "cell_type": "code",
   "execution_count": 57,
   "metadata": {},
   "outputs": [
    {
     "name": "stdout",
     "output_type": "stream",
     "text": [
      "New size after dropping NaNs: 58624\n"
     ]
    }
   ],
   "source": [
    "# need to drop NaNs in the runtime, release year and name column in order to be able to correctly identify the movies\n",
    "movies = movies.dropna(subset=['runtime','year_release','name'])\n",
    "\n",
    "# runtime is int in IMBd dataset and float in the other one, need to convert it to int with a ceiling\n",
    "movies['runtime'] = movies['runtime'].apply(lambda x: int(math.ceil(x)))\n",
    "# transform the year_release column to int\n",
    "movies['year_release'] = movies['year_release'].astype(int)\n",
    "\n",
    "#print new size of movies (58k)\n",
    "print(\"New size after dropping NaNs: \"+str(len(movies['wikipedia_id'])))"
   ]
  },
  {
   "cell_type": "code",
   "execution_count": 58,
   "metadata": {},
   "outputs": [
    {
     "name": "stderr",
     "output_type": "stream",
     "text": [
      "/var/folders/nb/6_kh75dx3xb3cgzlclgmvcx00000gn/T/ipykernel_2388/4108751658.py:2: DtypeWarning: Columns (4) have mixed types. Specify dtype option on import or set low_memory=False.\n",
      "  titles_imbd = pd.read_csv('IMDB/title.basics.tsv', sep='\\t')\n"
     ]
    }
   ],
   "source": [
    "#load the heavy files aka titles imbd to find the imdb unique id, then use it to find the imdb rating and merge it with the movies dataframe\n",
    "titles_imbd = pd.read_csv('IMDB/title.basics.tsv', sep='\\t')\n",
    "# keep only the columns we need\n",
    "titles_imbd = titles_imbd[['tconst','primaryTitle','startYear','runtimeMinutes']]\n",
    "\n",
    "#load the imdb rating file\n",
    "rating_imbd = pd.read_csv('IMDB/title.ratings.tsv', sep='\\t')"
   ]
  },
  {
   "cell_type": "code",
   "execution_count": 59,
   "metadata": {},
   "outputs": [
    {
     "name": "stderr",
     "output_type": "stream",
     "text": [
      "/var/folders/nb/6_kh75dx3xb3cgzlclgmvcx00000gn/T/ipykernel_2388/1834199833.py:2: FutureWarning: The pandas.np module is deprecated and will be removed from pandas in a future version. Import numpy directly instead.\n",
      "  titles_imbd = titles_imbd.replace('\\\\N', pd.np.nan)\n"
     ]
    },
    {
     "name": "stdout",
     "output_type": "stream",
     "text": [
      "Size of titles_imbd: 954273\n"
     ]
    }
   ],
   "source": [
    "#replacing the \\N values with NaN\n",
    "titles_imbd = titles_imbd.replace('\\\\N', pd.np.nan)\n",
    "#drop the rows with NaN values\n",
    "titles_imbd = titles_imbd.dropna()\n",
    "\n",
    "# convert the startYear and runtimeMinutes column to numbers\n",
    "titles_imbd['startYear'] = titles_imbd['startYear'].astype(int)\n",
    "titles_imbd['runtimeMinutes'] = titles_imbd['runtimeMinutes'].astype(int)\n",
    "\n",
    "# drop duplicates from the titles_imbd dataframe if the tuple (primaryTitle, startYear, runtimeMinutes) is duplicated\n",
    "titles_imbd = titles_imbd.sort_values('runtimeMinutes', ascending=False).drop_duplicates(['primaryTitle','startYear','runtimeMinutes']).sort_index()\n",
    "\n",
    "# merge the ratings_imbd dataframe with the titles_imbd dataframe\n",
    "titles_imbd = titles_imbd.merge(rating_imbd, on='tconst')\n",
    "\n",
    "# show size of the dataframe\n",
    "print(\"Size of titles_imbd: \"+str(len(titles_imbd['tconst'])))"
   ]
  },
  {
   "cell_type": "code",
   "execution_count": 61,
   "metadata": {},
   "outputs": [
    {
     "name": "stdout",
     "output_type": "stream",
     "text": [
      "New size after merging with imdb: 58624\n"
     ]
    }
   ],
   "source": [
    "# merge the movies dataframe with the titles_imbd dataframe\n",
    "movies = movies.merge(titles_imbd, left_on=['name','year_release','runtime'], right_on=['primaryTitle','startYear','runtimeMinutes'], how='left')\n",
    "#drop the useless columns\n",
    "movies = movies.drop(columns=['primaryTitle','startYear','runtimeMinutes','tconst'])\n",
    "\n",
    "# show new size of movies after merging with imdb\n",
    "print(\"New size after merging with imdb: \"+str(len(movies['wikipedia_id'])))\n",
    "\n",
    "# 44.4% of the movies have a rating\n",
    "print(str(movies.averageRating.count())+' movies have a rating over '+str(movies.name.count())+' movies, so '+str(round(movies.averageRating.count()*100/movies.name.count()))+' % movies do have a rating')\n",
    "\n",
    "# we drop all the movies that don't have a rating because it is our dependent variable\n",
    "movies = movies.dropna(subset=['averageRating'])\n",
    "\n",
    "# show new size of movies after dropping movies without rating (25k)\n",
    "print(\"New size after dropping movies without rating: \"+str(len(movies['wikipedia_id'])))\n",
    "# show size of the dataframe\n",
    "print(movies.shape)"
   ]
  },
  {
   "cell_type": "markdown",
   "metadata": {},
   "source": [
    "# Actors Dataset:"
   ]
  },
  {
   "cell_type": "code",
   "execution_count": 66,
   "metadata": {},
   "outputs": [],
   "source": [
    "#filter the awards dataframe to only keep the rows with winner as True\n",
    "#awards_winners = awards[awards.winner == True]\n",
    "\n",
    "#filter the awards dataframe to only keep the rows with category containing ACTOR or ACTRESS\n",
    "awards_actors = awards[awards.category.str.contains('ACTOR|ACTRESS')]\n",
    "#awards_winners[awards_winners.category.str.contains('ACTOR|ACTRESS')]\n",
    "\n",
    "#count the number of awards per entity in awards_actors\n",
    "awards_actors_count = awards_actors.groupby('entity',as_index=False).count()"
   ]
  },
  {
   "cell_type": "code",
   "execution_count": 67,
   "metadata": {},
   "outputs": [
    {
     "name": "stdout",
     "output_type": "stream",
     "text": [
      "(134079, 1)\n",
      "(134079, 2)\n",
      "(134079, 3)\n",
      "(134079, 7)\n",
      "1310 actors have a Fame value over 134078 actors, so 1 % actors do have a Fame value\n"
     ]
    }
   ],
   "source": [
    "# get a list of unique actors from the character dataframe\n",
    "actors_list = pd.DataFrame(characters.actor_name.unique())\n",
    "print(actors_list.shape)\n",
    "\n",
    "#rename the column\n",
    "actors_list.columns = ['name']\n",
    "\n",
    "#add a column to the actors_list dataframe with the winners count\n",
    "actors_list = actors_list.merge(awards_actors_count[['entity','winner']], left_on='name', right_on='entity', how='left')\n",
    "#drop the entity column\n",
    "actors_list = actors_list.drop(columns=['entity'])\n",
    "#rename the count column\n",
    "actors_list = actors_list.rename(columns={'winner': 'awards'})\n",
    "#fill the NaN values in the awards column with 0\n",
    "actors_list['awards'] = actors_list['awards'].fillna(0)\n",
    "print(actors_list.shape)\n",
    "\n",
    "#create a dataframe with the number of movies per actor\n",
    "actors_movies_count = pd.DataFrame(characters.actor_name.value_counts())\n",
    "\n",
    "#add a column to the actors_list dataframe with the movies count\n",
    "actors_list = actors_list.merge(actors_movies_count, left_on='name', right_index=True, how='left')\n",
    "#rename the count column\n",
    "actors_list = actors_list.rename(columns={'actor_name': 'movies'})\n",
    "print(actors_list.shape)\n",
    "\n",
    "#replace the Actor column of actors dataframe by the same value but replace each _ by a space\n",
    "actors['Actor'] = actors['Actor'].str.replace('_', ' ')\n",
    "\n",
    "#add the actors dataframe to the actors_list dataframe on the Actor column and name column respectively\n",
    "actors_list = actors_list.merge(actors, left_on='name', right_on='Actor', how='left')\n",
    "\n",
    "#drop the Actor column\n",
    "actors_list = actors_list.drop(columns=['Actor'])\n",
    "print(actors_list.shape)\n",
    "#print the number of actors with a Fame value\n",
    "print(str(actors_list.Fame.count())+' actors have a Fame value over '+str(actors_list.name.count())+' actors, so '+str(round(actors_list.Fame.count()*100/actors_list.name.count()))+' % actors do have a Fame value')\n",
    "#replace the NaN values in the Fame column by 0\n",
    "actors_list['Fame'] = actors_list['Fame'].fillna(0)\n",
    "#replace the NaN values in the Liked,Disliked,Neutral columns by 0\n",
    "actors_list['Liked'] = actors_list['Liked'].fillna(0)\n",
    "actors_list['Disliked'] = actors_list['Disliked'].fillna(0)\n",
    "actors_list['Neutral'] = actors_list['Neutral'].fillna(0)\n",
    "\n",
    "#TODO:issue to solve, we loose about 46 actors in the merge because the name has . or ' or -, and we replace every _ by a space\n",
    "#TODO: possible solution, replace every . or ' or - by a space in the actors_list dataframe\n",
    "#TODO: possible solution, replace every . or ' or - or space by a _ in the actors dataframe\n",
    "\n",
    "#TODO: NaN values to manage\n",
    "\n",
    "#TODO: add gender and ethnicity to the actors_list dataframe"
   ]
  },
  {
   "cell_type": "code",
   "execution_count": 68,
   "metadata": {},
   "outputs": [
    {
     "data": {
      "text/html": [
       "<div>\n",
       "<style scoped>\n",
       "    .dataframe tbody tr th:only-of-type {\n",
       "        vertical-align: middle;\n",
       "    }\n",
       "\n",
       "    .dataframe tbody tr th {\n",
       "        vertical-align: top;\n",
       "    }\n",
       "\n",
       "    .dataframe thead th {\n",
       "        text-align: right;\n",
       "    }\n",
       "</style>\n",
       "<table border=\"1\" class=\"dataframe\">\n",
       "  <thead>\n",
       "    <tr style=\"text-align: right;\">\n",
       "      <th></th>\n",
       "      <th>actor_birth</th>\n",
       "      <th>actor_gender</th>\n",
       "      <th>actor_height</th>\n",
       "      <th>actor_etnicity</th>\n",
       "      <th>actor_name</th>\n",
       "      <th>freebase_actor_id</th>\n",
       "    </tr>\n",
       "  </thead>\n",
       "  <tbody>\n",
       "    <tr>\n",
       "      <th>0</th>\n",
       "      <td>1958-08-26</td>\n",
       "      <td>F</td>\n",
       "      <td>1.620</td>\n",
       "      <td>NaN</td>\n",
       "      <td>Wanda De Jesus</td>\n",
       "      <td>/m/03wcfv7</td>\n",
       "    </tr>\n",
       "    <tr>\n",
       "      <th>1</th>\n",
       "      <td>1974-08-15</td>\n",
       "      <td>F</td>\n",
       "      <td>1.780</td>\n",
       "      <td>/m/044038p</td>\n",
       "      <td>Natasha Henstridge</td>\n",
       "      <td>/m/0346l4</td>\n",
       "    </tr>\n",
       "    <tr>\n",
       "      <th>2</th>\n",
       "      <td>1969-06-15</td>\n",
       "      <td>M</td>\n",
       "      <td>1.727</td>\n",
       "      <td>/m/0x67</td>\n",
       "      <td>Ice Cube</td>\n",
       "      <td>/m/01vw26l</td>\n",
       "    </tr>\n",
       "    <tr>\n",
       "      <th>3</th>\n",
       "      <td>1967-09-12</td>\n",
       "      <td>M</td>\n",
       "      <td>1.750</td>\n",
       "      <td>NaN</td>\n",
       "      <td>Jason Statham</td>\n",
       "      <td>/m/034hyc</td>\n",
       "    </tr>\n",
       "    <tr>\n",
       "      <th>4</th>\n",
       "      <td>1977-09-25</td>\n",
       "      <td>F</td>\n",
       "      <td>1.650</td>\n",
       "      <td>NaN</td>\n",
       "      <td>Clea DuVall</td>\n",
       "      <td>/m/01y9xg</td>\n",
       "    </tr>\n",
       "  </tbody>\n",
       "</table>\n",
       "</div>"
      ],
      "text/plain": [
       "  actor_birth actor_gender  actor_height actor_etnicity          actor_name  \\\n",
       "0  1958-08-26            F         1.620            NaN      Wanda De Jesus   \n",
       "1  1974-08-15            F         1.780     /m/044038p  Natasha Henstridge   \n",
       "2  1969-06-15            M         1.727        /m/0x67            Ice Cube   \n",
       "3  1967-09-12            M         1.750            NaN       Jason Statham   \n",
       "4  1977-09-25            F         1.650            NaN         Clea DuVall   \n",
       "\n",
       "  freebase_actor_id  \n",
       "0        /m/03wcfv7  \n",
       "1         /m/0346l4  \n",
       "2        /m/01vw26l  \n",
       "3         /m/034hyc  \n",
       "4         /m/01y9xg  "
      ]
     },
     "execution_count": 68,
     "metadata": {},
     "output_type": "execute_result"
    }
   ],
   "source": [
    "#make a pandas dataframe of the characters dataframe with only the first row of each actor\n",
    "actors_metadata = characters.drop_duplicates(subset=['actor_name'], keep='first')\n",
    "#drop the columns that we don't need\n",
    "actors_metadata = actors_metadata.drop(columns=['wikipedia_movie_id', 'freebase_movie_id', 'movie_release_date', 'character_name','actor_age_at_release', 'freebase_char_actor_map_id', 'freebase_character_id'])\n",
    "actors_metadata.head()"
   ]
  },
  {
   "cell_type": "code",
   "execution_count": 71,
   "metadata": {},
   "outputs": [
    {
     "name": "stdout",
     "output_type": "stream",
     "text": [
      "(134079, 12)\n",
      "  actor_birth actor_gender  actor_height actor_etnicity          actor_name  \\\n",
      "0  1958-08-26            F         1.620            NaN      Wanda De Jesus   \n",
      "1  1974-08-15            F         1.780     /m/044038p  Natasha Henstridge   \n",
      "2  1969-06-15            M         1.727        /m/0x67            Ice Cube   \n",
      "3  1967-09-12            M         1.750            NaN       Jason Statham   \n",
      "4  1977-09-25            F         1.650            NaN         Clea DuVall   \n",
      "\n",
      "  freebase_actor_id  awards  movies  Fame  Liked  Disliked  Neutral  \n",
      "0        /m/03wcfv7     0.0     8.0   0.0    0.0       0.0      0.0  \n",
      "1         /m/0346l4     0.0    23.0   0.0    0.0       0.0      0.0  \n",
      "2        /m/01vw26l     0.0    33.0  93.0   57.0      11.0     25.0  \n",
      "3         /m/034hyc     0.0    31.0  78.0   59.0       4.0     14.0  \n",
      "4         /m/01y9xg     0.0    31.0   0.0    0.0       0.0      0.0  \n"
     ]
    }
   ],
   "source": [
    "actors_info = actors_metadata.merge(actors_list, left_on='actor_name', right_on='name', how='left')\n",
    "actors_info = actors_info.drop(columns=['name'])\n",
    "print(actors_info.shape)\n",
    "print(actors_info.head())"
   ]
  },
  {
   "cell_type": "code",
   "execution_count": null,
   "metadata": {},
   "outputs": [],
   "source": [
    "# show the percentage of NaNs in each column of actors_info\n",
    "print(\"Percentage of NaNs in each column: \")\n",
    "print(actors_info.isnull().sum()/len(actors_info)*100)"
   ]
  },
  {
   "cell_type": "markdown",
   "metadata": {},
   "source": [
    "# Character Dataset:"
   ]
  },
  {
   "cell_type": "code",
   "execution_count": null,
   "metadata": {},
   "outputs": [],
   "source": [
    "# show initial size of character dataframe\n",
    "print(\"Initial size of characters: \"+str(characters.shape))\n",
    "# merge additional info of the actors to the characters dataframe\n",
    "characters = characters.merge(actors_list[['name','Fame','Liked','Disliked','Neutral']], left_on='actor_name', right_on='name', how='left')\n",
    "characters = characters.drop(columns=['name'])\n",
    "# show new size of characters dataframe\n",
    "print(\"New size of the dataset\"+str(characters.shape))\n",
    "# compute percentage of NaNs in each column\n",
    "print(\"Percentage of NaNs in each column: \")\n",
    "print(characters.isnull().sum()/len(characters)*100)\n",
    "#etnicty at 76% missing and gender at 10% missing\n",
    "#to re compute if we remove the movies we don't have the rating for\n",
    "\n",
    "# filter out all the character rows which wikipedia_movie_id is not in the movies dataframe\n",
    "characters = characters[characters.wikipedia_movie_id.isin(movies.wikipedia_id)]\n",
    "# show new size of characters dataframe\n",
    "print(\"New size of the dataset after removing not reviewed movies: \"+str(characters.shape))\n",
    "\n",
    "# compute percentage of NaNs in each column\n",
    "print(\"Percentage of NaNs in each column: \")\n",
    "print(characters.isnull().sum()/len(characters)*100)"
   ]
  },
  {
   "cell_type": "markdown",
   "metadata": {},
   "source": [
    "# TIMB add awards per charac and experience in the previous cell!"
   ]
  },
  {
   "cell_type": "markdown",
   "metadata": {},
   "source": [
    "## Update of actors dataset:"
   ]
  },
  {
   "cell_type": "code",
   "execution_count": null,
   "metadata": {},
   "outputs": [],
   "source": [
    "# filter out actors in actors_info that are not in the characters dataframe\n",
    "actors_info_test = actors_info[actors_info.actor_name.isin(characters.actor_name)]\n",
    "# show new size of actors_info dataframe\n",
    "print(\"New size of the dataset after removing actors not in characters: \"+str(actors_info_test.shape))\n",
    "\n",
    "# compute percentage of NaNs in each column\n",
    "print(\"Percentage of NaNs in each column: \")\n",
    "print(actors_info_test.isnull().sum()/len(actors_info_test)*100)"
   ]
  },
  {
   "cell_type": "code",
   "execution_count": 10,
   "metadata": {},
   "outputs": [
    {
     "name": "stdout",
     "output_type": "stream",
     "text": [
      "<class 'pandas.core.frame.DataFrame'>\n",
      "RangeIndex: 1355 entries, 0 to 1354\n",
      "Data columns (total 5 columns):\n",
      " #   Column    Non-Null Count  Dtype \n",
      "---  ------    --------------  ----- \n",
      " 0   Actor     1355 non-null   object\n",
      " 1   Fame      1355 non-null   int64 \n",
      " 2   Liked     1355 non-null   int64 \n",
      " 3   Disliked  1355 non-null   int64 \n",
      " 4   Neutral   1355 non-null   int64 \n",
      "dtypes: int64(4), object(1)\n",
      "memory usage: 53.1+ KB\n",
      "None\n",
      "<class 'pandas.core.frame.DataFrame'>\n",
      "RangeIndex: 11058 entries, 0 to 11057\n",
      "Data columns (total 4 columns):\n",
      " #   Column    Non-Null Count  Dtype \n",
      "---  ------    --------------  ----- \n",
      " 0   year      11058 non-null  int64 \n",
      " 1   category  11058 non-null  object\n",
      " 2   winner    11058 non-null  bool  \n",
      " 3   entity    11058 non-null  object\n",
      "dtypes: bool(1), int64(1), object(2)\n",
      "memory usage: 270.1+ KB\n",
      "None\n",
      "<class 'pandas.core.frame.DataFrame'>\n",
      "RangeIndex: 81741 entries, 0 to 81740\n",
      "Data columns (total 9 columns):\n",
      " #   Column        Non-Null Count  Dtype  \n",
      "---  ------        --------------  -----  \n",
      " 0   wikipedia_id  81741 non-null  int64  \n",
      " 1   freebase_id   81741 non-null  object \n",
      " 2   name          81741 non-null  object \n",
      " 3   release_date  74839 non-null  object \n",
      " 4   revenue       8401 non-null   float64\n",
      " 5   runtime       61291 non-null  float64\n",
      " 6   languages     81741 non-null  object \n",
      " 7   countries     81741 non-null  object \n",
      " 8   genres        81741 non-null  object \n",
      "dtypes: float64(2), int64(1), object(6)\n",
      "memory usage: 5.6+ MB\n",
      "None\n",
      "<class 'pandas.core.frame.DataFrame'>\n",
      "RangeIndex: 450669 entries, 0 to 450668\n",
      "Data columns (total 13 columns):\n",
      " #   Column                      Non-Null Count   Dtype  \n",
      "---  ------                      --------------   -----  \n",
      " 0   wikipedia_movie_id          450669 non-null  int64  \n",
      " 1   freebase_movie_id           450669 non-null  object \n",
      " 2   movie_release_date          440674 non-null  object \n",
      " 3   character_name              192794 non-null  object \n",
      " 4   actor_birth                 344524 non-null  object \n",
      " 5   actor_gender                405060 non-null  object \n",
      " 6   actor_height                154824 non-null  float64\n",
      " 7   actor_etnicity              106058 non-null  object \n",
      " 8   actor_name                  449441 non-null  object \n",
      " 9   actor_age_at_release        292556 non-null  float64\n",
      " 10  freebase_char_actor_map_id  450669 non-null  object \n",
      " 11  freebase_character_id       192804 non-null  object \n",
      " 12  freebase_actor_id           449854 non-null  object \n",
      "dtypes: float64(2), int64(1), object(10)\n",
      "memory usage: 44.7+ MB\n",
      "None\n"
     ]
    }
   ],
   "source": [
    "# basic info of the data to see changes when cleaning\n",
    "print(actors.info())\n",
    "print(awards.info())\n",
    "print(movies.info())\n",
    "print(characters.info())"
   ]
  }
 ],
 "metadata": {
  "kernelspec": {
   "display_name": "ada",
   "language": "python",
   "name": "python3"
  },
  "language_info": {
   "codemirror_mode": {
    "name": "ipython",
    "version": 3
   },
   "file_extension": ".py",
   "mimetype": "text/x-python",
   "name": "python",
   "nbconvert_exporter": "python",
   "pygments_lexer": "ipython3",
   "version": "3.9.18"
  }
 },
 "nbformat": 4,
 "nbformat_minor": 2
}
